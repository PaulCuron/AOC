{
 "cells": [
  {
   "cell_type": "code",
   "execution_count": 1,
   "metadata": {},
   "outputs": [],
   "source": [
    "import numpy as np\n",
    "from math import *"
   ]
  },
  {
   "cell_type": "markdown",
   "metadata": {},
   "source": [
    "## Jour 1"
   ]
  },
  {
   "cell_type": "markdown",
   "metadata": {},
   "source": [
    "### Part 1"
   ]
  },
  {
   "cell_type": "code",
   "execution_count": 40,
   "metadata": {},
   "outputs": [],
   "source": [
    "fname = 'input/1.txt'\n",
    "file = open(fname, 'r')\n",
    "lines = file.readlines()\n"
   ]
  },
  {
   "cell_type": "code",
   "execution_count": 36,
   "metadata": {},
   "outputs": [],
   "source": [
    "clean_line = []\n",
    "S_1 = 0\n",
    "S_2 = 0\n",
    "S_3 = 0\n",
    "S = 0\n",
    "for line in lines:\n",
    "    x = line.strip('\\n')\n",
    "    if x == '':\n",
    "        clean_line.append(0)\n",
    "        if S > S_3:\n",
    "            if S > S_2:\n",
    "                if S > S_1:\n",
    "                    S_3, S_2, S_1 = S_2, S_1, S\n",
    "                else:\n",
    "                    S_3, S_2 = S_2, S\n",
    "            else:\n",
    "                S_3 = S\n",
    "        S = 0\n",
    "    else:\n",
    "\n",
    "        clean_line.append(int(x))\n",
    "        S += int(x)\n"
   ]
  },
  {
   "cell_type": "code",
   "execution_count": 39,
   "metadata": {},
   "outputs": [
    {
     "name": "stdout",
     "output_type": "stream",
     "text": [
      "69626\n"
     ]
    }
   ],
   "source": [
    "print(S_1)\n"
   ]
  },
  {
   "cell_type": "markdown",
   "metadata": {},
   "source": [
    "### Part 2"
   ]
  },
  {
   "cell_type": "code",
   "execution_count": 38,
   "metadata": {},
   "outputs": [
    {
     "name": "stdout",
     "output_type": "stream",
     "text": [
      "206780\n"
     ]
    }
   ],
   "source": [
    "print(S_1 + S_2 + S_3)\n"
   ]
  },
  {
   "cell_type": "markdown",
   "metadata": {},
   "source": [
    "## Jour 2"
   ]
  },
  {
   "cell_type": "code",
   "execution_count": 8,
   "metadata": {},
   "outputs": [],
   "source": [
    "AX_score, BY_score, CZ_score = 1, 2, 3\n",
    "draw_score, win_score = 3, 6\n",
    "\n",
    "\n",
    "def match(him, me):\n",
    "    if him == 'A':\n",
    "        if me == 'X':\n",
    "            return draw_score\n",
    "        elif me == 'Y':\n",
    "            return win_score\n",
    "        else:\n",
    "            return 0\n",
    "    elif him == 'B':\n",
    "        if me == 'X':\n",
    "            return 0\n",
    "        elif me == 'Y':\n",
    "            return draw_score\n",
    "        else:\n",
    "            return win_score\n",
    "    elif him == 'C':\n",
    "        if me == 'X':\n",
    "            return win_score\n",
    "        elif me == 'Y':\n",
    "            return 0\n",
    "        else:\n",
    "            return draw_score\n",
    "\n",
    "\n",
    "def sign_score(me):\n",
    "    if me == 'X':\n",
    "        return AX_score\n",
    "    elif me == 'Y':\n",
    "        return BY_score\n",
    "    elif me == 'Z':\n",
    "        return CZ_score\n",
    "\n",
    "\n",
    "def total_score(him, me):\n",
    "    return match(him, me) + sign_score(me)\n"
   ]
  },
  {
   "cell_type": "markdown",
   "metadata": {},
   "source": [
    "### Part 1"
   ]
  },
  {
   "cell_type": "code",
   "execution_count": 2,
   "metadata": {},
   "outputs": [],
   "source": [
    "fname = 'input/2.txt'\n",
    "file = open(fname, 'r')\n",
    "lines = file.readlines()\n"
   ]
  },
  {
   "cell_type": "code",
   "execution_count": 18,
   "metadata": {},
   "outputs": [
    {
     "name": "stdout",
     "output_type": "stream",
     "text": [
      "12156\n"
     ]
    }
   ],
   "source": [
    "S = 0\n",
    "for line in lines:\n",
    "    line.strip('\\n')\n",
    "    line.split('  ')\n",
    "\n",
    "    S += total_score(line[0], line[2])\n",
    "\n",
    "print(S)\n"
   ]
  },
  {
   "cell_type": "markdown",
   "metadata": {},
   "source": [
    "### Part 2"
   ]
  },
  {
   "cell_type": "code",
   "execution_count": 21,
   "metadata": {},
   "outputs": [],
   "source": [
    "def match2(him, me):\n",
    "    if him == 'A':\n",
    "        if me == 'Z':\n",
    "            return win_score + BY_score\n",
    "        elif me == 'Y':\n",
    "            return draw_score + AX_score\n",
    "        else:\n",
    "            return CZ_score\n",
    "    elif him == 'B':\n",
    "        if me == 'Z':\n",
    "            return win_score + CZ_score\n",
    "        elif me == 'Y':\n",
    "            return draw_score + BY_score\n",
    "        else:\n",
    "            return AX_score\n",
    "    elif him == 'C':\n",
    "        if me == 'Z':\n",
    "            return win_score + AX_score\n",
    "        elif me == 'Y':\n",
    "            return draw_score + CZ_score\n",
    "        else:\n",
    "            return BY_score\n"
   ]
  },
  {
   "cell_type": "code",
   "execution_count": 22,
   "metadata": {},
   "outputs": [
    {
     "name": "stdout",
     "output_type": "stream",
     "text": [
      "10835\n"
     ]
    }
   ],
   "source": [
    "S = 0\n",
    "for line in lines:\n",
    "    line.strip('\\n')\n",
    "    line.split('  ')\n",
    "\n",
    "    S += match2(line[0], line[2])\n",
    "\n",
    "print(S)\n"
   ]
  },
  {
   "cell_type": "markdown",
   "metadata": {},
   "source": [
    "## Jour 3"
   ]
  },
  {
   "cell_type": "markdown",
   "metadata": {},
   "source": [
    "### Part 1"
   ]
  },
  {
   "cell_type": "code",
   "execution_count": 45,
   "metadata": {},
   "outputs": [
    {
     "name": "stdout",
     "output_type": "stream",
     "text": [
      "7716\n"
     ]
    }
   ],
   "source": [
    "\n",
    "with open('input/3.txt', 'r') as file:\n",
    "    lines = file.readlines()\n",
    "    S = 0\n",
    "    for line in lines:\n",
    "        bag = [ord(c) - c.isupper()*(ord('A')-27) - (1-c.isupper())\n",
    "               * (ord('a')-1) for c in line.strip()]\n",
    "        N = len(line)\n",
    "        part1 = bag[0:int(N/2)]\n",
    "        part2 = bag[int(N/2):N]\n",
    "        finish = False\n",
    "        for n in part1:\n",
    "            for m in part2:\n",
    "                if n == m:\n",
    "                    S += n\n",
    "                    finish = True\n",
    "                    break\n",
    "            if finish:\n",
    "                break\n",
    "print(S)\n"
   ]
  },
  {
   "cell_type": "markdown",
   "metadata": {},
   "source": [
    "### Part 2"
   ]
  },
  {
   "cell_type": "code",
   "execution_count": 44,
   "metadata": {},
   "outputs": [
    {
     "name": "stdout",
     "output_type": "stream",
     "text": [
      "2973\n"
     ]
    }
   ],
   "source": [
    "\n",
    "with open('input/3.txt', 'r') as file:\n",
    "    lines = file.readlines()\n",
    "    S = 0\n",
    "    for k in range(int(len(lines)/3)):\n",
    "        bag1 = [ord(c) - c.isupper()*(ord('A')-27) - (1-c.isupper())\n",
    "                * (ord('a')-1) for c in lines[3*k].strip()]\n",
    "        bag2 = [ord(c) - c.isupper()*(ord('A')-27) - (1-c.isupper())\n",
    "                * (ord('a')-1) for c in lines[3*k+1].strip()]\n",
    "        bag3 = [ord(c) - c.isupper()*(ord('A')-27) - (1-c.isupper())\n",
    "                * (ord('a')-1) for c in lines[3*k+2].strip()]\n",
    "        finish = False\n",
    "        for n in bag1:\n",
    "            for m in bag2:\n",
    "                for p in bag3:\n",
    "                    if n == m and m == p:\n",
    "                        S += n\n",
    "                        finish = True\n",
    "                        break\n",
    "                if finish:\n",
    "                    break\n",
    "            if finish:\n",
    "                break\n",
    "\n",
    "print(S)\n"
   ]
  },
  {
   "cell_type": "markdown",
   "metadata": {},
   "source": [
    "## Jour 4"
   ]
  },
  {
   "cell_type": "markdown",
   "metadata": {},
   "source": [
    "### Part 1"
   ]
  },
  {
   "cell_type": "code",
   "execution_count": 37,
   "metadata": {},
   "outputs": [
    {
     "name": "stdout",
     "output_type": "stream",
     "text": [
      "500\n"
     ]
    }
   ],
   "source": [
    "with open('input/4.txt', 'r') as file:\n",
    "    lines = file.readlines()\n",
    "    S = 0\n",
    "    for line in lines:\n",
    "        s1, s2 = np.zeros((100,1)), np.zeros((100,1))\n",
    "        elf1, elf2 = line.strip().split(',')\n",
    "        elf1, elf2 = list(map(int,elf1.split('-'))), list(map(int,elf2.split('-')))\n",
    "        s1[elf1[0]:elf1[1]+1]=1\n",
    "        s2[elf2[0]:elf2[1]+1]=1\n",
    "        S += (sum(s1*s2) == min(elf1[1]-elf1[0]+1,elf2[1]-elf2[0]+1))\n",
    "    print(S[0])\n"
   ]
  },
  {
   "cell_type": "markdown",
   "metadata": {},
   "source": [
    "### Part 2"
   ]
  },
  {
   "cell_type": "code",
   "execution_count": 36,
   "metadata": {},
   "outputs": [
    {
     "name": "stdout",
     "output_type": "stream",
     "text": [
      "815\n"
     ]
    }
   ],
   "source": [
    "with open('input/4.txt', 'r') as file:\n",
    "    lines = file.readlines()\n",
    "    S = 0\n",
    "    for line in lines:\n",
    "        s1, s2 = np.zeros((100,1)), np.zeros((100,1))\n",
    "        elf1, elf2 = line.strip().split(',')\n",
    "        elf1, elf2 = list(map(int,elf1.split('-'))), list(map(int,elf2.split('-')))\n",
    "        s1[elf1[0]:elf1[1]+1]=1\n",
    "        s2[elf2[0]:elf2[1]+1]=1\n",
    "        S += sum(s1*s2) >= 1 \n",
    "    print(S[0])"
   ]
  },
  {
   "cell_type": "markdown",
   "metadata": {},
   "source": [
    "## Jour 5"
   ]
  },
  {
   "cell_type": "markdown",
   "metadata": {},
   "source": [
    "### Part 1"
   ]
  },
  {
   "cell_type": "code",
   "execution_count": 12,
   "metadata": {},
   "outputs": [
    {
     "name": "stdout",
     "output_type": "stream",
     "text": [
      "['W', 'S', 'F', 'T', 'M', 'R', 'H', 'P', 'P']\n"
     ]
    }
   ],
   "source": [
    "with open('input/5.txt','r') as file:\n",
    "    line = file.readline()\n",
    "    N_stack = int(len(line)/4)\n",
    "    stacks = [[] for i in range(N_stack)]\n",
    "    while line[1]!='1':\n",
    "        for i in range(N_stack):\n",
    "            a = line[4*i+1].strip()\n",
    "            if a!= '': stacks[i].append(a)\n",
    "        line = file.readline()\n",
    "    stacks = [list(reversed(L)) for L in stacks]\n",
    "\n",
    "    line = file.readline()\n",
    "    eof = False\n",
    "    while not eof:\n",
    "        line = file.readline()\n",
    "        if line == '':\n",
    "            eof = True\n",
    "        else:\n",
    "            line = line.replace('move','')\n",
    "            line = line.replace('from',',')\n",
    "            line = line.replace('to',',')\n",
    "            line = line.strip().split(',')\n",
    "            amount = int(line[0].strip())\n",
    "            s = int(line[1].strip()) - 1\n",
    "            e = int(line[2].strip()) - 1\n",
    "            for i in range(amount):\n",
    "                a = stacks[s].pop()\n",
    "                stacks[e].append(a)\n",
    "\n",
    "    print([L[-1] for L in stacks])"
   ]
  },
  {
   "cell_type": "markdown",
   "metadata": {},
   "source": [
    "### Part 2"
   ]
  },
  {
   "cell_type": "code",
   "execution_count": 11,
   "metadata": {},
   "outputs": [
    {
     "name": "stdout",
     "output_type": "stream",
     "text": [
      "['G', 'S', 'L', 'C', 'M', 'F', 'B', 'R', 'P']\n"
     ]
    }
   ],
   "source": [
    "with open('input/5.txt','r') as file:\n",
    "    line = file.readline()\n",
    "    N_stack = int(len(line)/4)\n",
    "    stacks = [[] for i in range(N_stack)]\n",
    "    while line[1]!='1':\n",
    "        for i in range(N_stack):\n",
    "            a = line[4*i+1].strip()\n",
    "            if a!= '': stacks[i].append(a)\n",
    "        line = file.readline()\n",
    "    stacks = [list(reversed(L)) for L in stacks]\n",
    "\n",
    "    line = file.readline()\n",
    "    eof = False\n",
    "    while not eof:\n",
    "        line = file.readline()\n",
    "        if line == '':\n",
    "            eof = True\n",
    "        else:\n",
    "            line = line.replace('move','')\n",
    "            line = line.replace('from',',')\n",
    "            line = line.replace('to',',')\n",
    "            line = line.strip().split(',')\n",
    "            amount = int(line[0].strip())\n",
    "            s = int(line[1].strip()) - 1\n",
    "            e = int(line[2].strip()) - 1\n",
    "            stacks[e] = stacks[e]+stacks[s][-amount:]\n",
    "            stacks[s] = stacks[s][0:-amount]\n",
    "\n",
    "    print([L[-1] for L in stacks])"
   ]
  },
  {
   "cell_type": "markdown",
   "metadata": {},
   "source": [
    "## Jour 6"
   ]
  },
  {
   "cell_type": "markdown",
   "metadata": {},
   "source": [
    "### Part 1"
   ]
  },
  {
   "cell_type": "code",
   "execution_count": 19,
   "metadata": {},
   "outputs": [
    {
     "name": "stdout",
     "output_type": "stream",
     "text": [
      "1287\n"
     ]
    }
   ],
   "source": [
    "def alldiff(L, n):\n",
    "    exp = [L[0]]\n",
    "    for l in L[1::]:\n",
    "        if not l in exp:\n",
    "            exp.append(l)\n",
    "    return len(exp) == n\n",
    "\n",
    "\n",
    "with open('input/6.txt') as file:\n",
    "    n = 4\n",
    "    line = file.readline()\n",
    "    L = line[0:n]\n",
    "    k = 4\n",
    "    while not alldiff(L, n):\n",
    "        L = L[1:n]+line[k]\n",
    "        k += 1\n",
    "    print(k)\n"
   ]
  },
  {
   "cell_type": "markdown",
   "metadata": {},
   "source": [
    "### Part 2"
   ]
  },
  {
   "cell_type": "code",
   "execution_count": 18,
   "metadata": {},
   "outputs": [
    {
     "name": "stdout",
     "output_type": "stream",
     "text": [
      "3716\n"
     ]
    }
   ],
   "source": [
    "with open('input/6.txt') as file:\n",
    "    n = 14\n",
    "    line = file.readline()\n",
    "    L = line[0:n]\n",
    "    k = n\n",
    "    while not alldiff(L, n):\n",
    "        L = L[1:n]+line[k]\n",
    "        k += 1\n",
    "    print(k)\n"
   ]
  },
  {
   "cell_type": "markdown",
   "metadata": {},
   "source": [
    "## Jour 7"
   ]
  },
  {
   "cell_type": "markdown",
   "metadata": {},
   "source": [
    "### Part 1\n"
   ]
  },
  {
   "cell_type": "code",
   "execution_count": 112,
   "metadata": {},
   "outputs": [
    {
     "name": "stdout",
     "output_type": "stream",
     "text": [
      "1642503\n"
     ]
    }
   ],
   "source": [
    "def path2str(path):\n",
    "    str = ''\n",
    "    for dir in path:\n",
    "        str = str+'/'+dir\n",
    "    return str\n",
    "\n",
    "\n",
    "directories = {}\n",
    "sizes = {}\n",
    "with open('input/7.txt') as file:\n",
    "    lines = file.readlines()\n",
    "    path = []\n",
    "    for line in lines:\n",
    "        line = line.strip().split(' ')\n",
    "        # print(line)\n",
    "        if line[0]=='$':\n",
    "            if line[1] == 'cd':\n",
    "                parent = line[2]\n",
    "                # print(parent)\n",
    "                if parent.strip() == '..':\n",
    "                    path.pop()\n",
    "                else : \n",
    "                    path.append(parent)\n",
    "                    if not path2str(path) in directories.keys():\n",
    "                        directories[path2str(path)] = []\n",
    "                    # print('    '*(len(path)-1)+parent)          \n",
    "        else:\n",
    "            strpath = path2str(path) \n",
    "            #children dir\n",
    "            if not strpath in sizes.keys():\n",
    "                sizes[strpath] = 0\n",
    "            if line[0] == 'dir':\n",
    "                directories[strpath].append(path2str(path+[line[1]]))\n",
    "            #file\n",
    "            else:\n",
    "                sizes[strpath] += int(line[0])\n",
    "    \n",
    "    S=0\n",
    "    T = 100000\n",
    "    for dir in directories.keys():\n",
    "        s = 0\n",
    "        for path in directories[dir]:\n",
    "            s += sizes[path]\n",
    "        s+= sizes[dir]\n",
    "        if s<=T:\n",
    "            S+=s \n",
    "\n",
    "    print(S)"
   ]
  },
  {
   "cell_type": "markdown",
   "metadata": {},
   "source": [
    "### Part 2"
   ]
  },
  {
   "cell_type": "code",
   "execution_count": 132,
   "metadata": {},
   "outputs": [
    {
     "name": "stdout",
     "output_type": "stream",
     "text": [
      "23407614\n",
      "6592386\n",
      "6999588\n"
     ]
    }
   ],
   "source": [
    "def sizetot(dir):\n",
    "    if directories[dir]==[]:\n",
    "        return sizes[dir]\n",
    "    else:\n",
    "        S = sizes[dir]\n",
    "        for child in directories[dir]:\n",
    "            S+= sizetot(child)\n",
    "        return S\n",
    "\n",
    "totSpace = 70000000\n",
    "freeSpace = totSpace\n",
    "reqSpace = 30000000\n",
    "for size in sizes.values():\n",
    "    freeSpace -= size\n",
    "toFree = reqSpace - freeSpace\n",
    "sMin = totSpace\n",
    "for dir in directories.keys():\n",
    "    s = sizetot(dir)\n",
    "    if toFree<= s and s<=sMin:\n",
    "        sMin = s\n",
    "\n",
    "print(sMin)"
   ]
  },
  {
   "cell_type": "markdown",
   "metadata": {},
   "source": [
    "## Jour 8"
   ]
  },
  {
   "cell_type": "markdown",
   "metadata": {},
   "source": [
    "### Part 1"
   ]
  },
  {
   "cell_type": "code",
   "execution_count": 31,
   "metadata": {},
   "outputs": [
    {
     "name": "stdout",
     "output_type": "stream",
     "text": [
      "1703\n"
     ]
    }
   ],
   "source": [
    "with open('input/8.txt','r') as file:\n",
    "    lines = file.readlines()\n",
    "    m,n = len(lines), len(lines[0].strip())\n",
    "    M = np.zeros((m,n))\n",
    "    for i,line in enumerate(lines):\n",
    "        for j,c in enumerate(line.strip()):\n",
    "            M[i,j] = int(c)\n",
    "\n",
    "    S = 2*m + 2*n - 4\n",
    "    for i in range(1,m-1):\n",
    "        for j in range(1,n-1):\n",
    "            hij = M[i,j]\n",
    "            u,d,l,r = i-1,i-1,j-1,j+1\n",
    "            U = M[0:i,j]\n",
    "            D = M[i+1:m,j]\n",
    "            L = M[i,0:j]\n",
    "            R = M[i,j+1:n]\n",
    "            if hij>min(max(U),max(D),max(L),max(R)):\n",
    "                S+=1\n",
    "            # hidden = False\n",
    "            # while not hidden:\n",
    "            #     if hij<=min(M[u,j],M[d,j],M[i,l],M[i,r]):\n",
    "            #         hidden = True\n",
    "            #     else:\n",
    "            #         if M[u,j] < hij:\n",
    "            #             u-=1\n",
    "            #         if M[d,j] < hij:\n",
    "            #             d+=1\n",
    "            #         if M[i,l] < hij:\n",
    "            #             l-=1\n",
    "            #         if M[i,r] < hij:\n",
    "            #             r+=1\n",
    "            #         if u<0 or l<0 or d>=m or r>=n:\n",
    "            #             hidden = True\n",
    "            #             S+=1\n",
    "            #             break\n",
    "    print(S)\n",
    "\n"
   ]
  },
  {
   "cell_type": "markdown",
   "metadata": {},
   "source": [
    "### Part 2"
   ]
  },
  {
   "cell_type": "code",
   "execution_count": 50,
   "metadata": {},
   "outputs": [
    {
     "name": "stdout",
     "output_type": "stream",
     "text": [
      "496650\n"
     ]
    }
   ],
   "source": [
    "with open('input/8.txt','r') as file:\n",
    "    lines = file.readlines()\n",
    "    m,n = len(lines), len(lines[0].strip())\n",
    "    M = np.zeros((m,n))\n",
    "    for i,line in enumerate(lines):\n",
    "        for j,c in enumerate(line.strip()):\n",
    "            M[i,j] = int(c)\n",
    "\n",
    "    Amax= 0\n",
    "    for i in range(1,m-1):\n",
    "        for j in range(1,n-1):\n",
    "            hij = M[i,j]\n",
    "            u,d,l,r = i-1,i+1,j-1,j+1\n",
    "            U,D,L,R = False,False,False,False\n",
    "            s=0\n",
    "            while s < 4:\n",
    "                if not U:\n",
    "                    if u <=0:\n",
    "                        du = i\n",
    "                        U = True\n",
    "                        s+=1\n",
    "                    elif M[u,j] < hij:\n",
    "                        u-=1\n",
    "                    else:\n",
    "                        du = abs(u-i)\n",
    "                        U = True\n",
    "                        s+=1\n",
    "                if not D:\n",
    "                    if d >=m-1:\n",
    "                        dd = m-i-1\n",
    "                        D = True\n",
    "                        s+=1\n",
    "                    elif M[d,j] < hij:\n",
    "                        d+=1\n",
    "                    else:\n",
    "                        dd = d-i\n",
    "                        D = True\n",
    "                        s+=1\n",
    "                if not L:\n",
    "                    if l<=0:\n",
    "                        dl = j\n",
    "                        L = True\n",
    "                        s+=1\n",
    "                    elif M[i,l] < hij:\n",
    "                        l-=1\n",
    "                    else:\n",
    "                        dl = j-l\n",
    "                        L = True\n",
    "                        s+=1\n",
    "                if not R:\n",
    "                    if r >=n-1:\n",
    "                        dr = n-j-1\n",
    "                        R = True\n",
    "                        s+=1\n",
    "                    elif M[i,r] < hij:\n",
    "                        r+=1\n",
    "                    else:\n",
    "                        dr = r-j\n",
    "                        R = True\n",
    "                        s+=1\n",
    "            Amax = max(Amax,du*dd*dl*dr)\n",
    "                    \n",
    "    print(Amax)\n"
   ]
  }
 ],
 "metadata": {
  "kernelspec": {
   "display_name": "Python 3.10.6 64-bit",
   "language": "python",
   "name": "python3"
  },
  "language_info": {
   "codemirror_mode": {
    "name": "ipython",
    "version": 3
   },
   "file_extension": ".py",
   "mimetype": "text/x-python",
   "name": "python",
   "nbconvert_exporter": "python",
   "pygments_lexer": "ipython3",
   "version": "3.10.6"
  },
  "orig_nbformat": 4,
  "vscode": {
   "interpreter": {
    "hash": "916dbcbb3f70747c44a77c7bcd40155683ae19c65e1c03b4aa3499c5328201f1"
   }
  }
 },
 "nbformat": 4,
 "nbformat_minor": 2
}
