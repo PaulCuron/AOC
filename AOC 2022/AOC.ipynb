{
 "cells": [
  {
   "cell_type": "code",
   "execution_count": 2,
   "metadata": {},
   "outputs": [],
   "source": [
    "import numpy as np\n",
    "from math import *\n",
    "from parse import *\n",
    "from random import *\n",
    "import matplotlib.pyplot as plt\n",
    "import ast"
   ]
  },
  {
   "cell_type": "markdown",
   "metadata": {},
   "source": [
    "## Jour 1"
   ]
  },
  {
   "cell_type": "markdown",
   "metadata": {},
   "source": [
    "### Part 1"
   ]
  },
  {
   "cell_type": "code",
   "execution_count": null,
   "metadata": {},
   "outputs": [],
   "source": [
    "fname = 'input/1.txt'\n",
    "file = open(fname, 'r')\n",
    "lines = file.readlines()\n"
   ]
  },
  {
   "cell_type": "code",
   "execution_count": null,
   "metadata": {},
   "outputs": [],
   "source": [
    "clean_line = []\n",
    "S_1 = 0\n",
    "S_2 = 0\n",
    "S_3 = 0\n",
    "S = 0\n",
    "for line in lines:\n",
    "    x = line.strip('\\n')\n",
    "    if x == '':\n",
    "        clean_line.append(0)\n",
    "        if S > S_3:\n",
    "            if S > S_2:\n",
    "                if S > S_1:\n",
    "                    S_3, S_2, S_1 = S_2, S_1, S\n",
    "                else:\n",
    "                    S_3, S_2 = S_2, S\n",
    "            else:\n",
    "                S_3 = S\n",
    "        S = 0\n",
    "    else:\n",
    "\n",
    "        clean_line.append(int(x))\n",
    "        S += int(x)\n"
   ]
  },
  {
   "cell_type": "code",
   "execution_count": null,
   "metadata": {},
   "outputs": [],
   "source": [
    "print(S_1)\n"
   ]
  },
  {
   "cell_type": "markdown",
   "metadata": {},
   "source": [
    "### Part 2"
   ]
  },
  {
   "cell_type": "code",
   "execution_count": null,
   "metadata": {},
   "outputs": [],
   "source": [
    "print(S_1 + S_2 + S_3)\n"
   ]
  },
  {
   "cell_type": "markdown",
   "metadata": {},
   "source": [
    "## Jour 2"
   ]
  },
  {
   "cell_type": "code",
   "execution_count": null,
   "metadata": {},
   "outputs": [],
   "source": [
    "AX_score, BY_score, CZ_score = 1, 2, 3\n",
    "draw_score, win_score = 3, 6\n",
    "\n",
    "\n",
    "def match(him, me):\n",
    "    if him == 'A':\n",
    "        if me == 'X':\n",
    "            return draw_score\n",
    "        elif me == 'Y':\n",
    "            return win_score\n",
    "        else:\n",
    "            return 0\n",
    "    elif him == 'B':\n",
    "        if me == 'X':\n",
    "            return 0\n",
    "        elif me == 'Y':\n",
    "            return draw_score\n",
    "        else:\n",
    "            return win_score\n",
    "    elif him == 'C':\n",
    "        if me == 'X':\n",
    "            return win_score\n",
    "        elif me == 'Y':\n",
    "            return 0\n",
    "        else:\n",
    "            return draw_score\n",
    "\n",
    "\n",
    "def sign_score(me):\n",
    "    if me == 'X':\n",
    "        return AX_score\n",
    "    elif me == 'Y':\n",
    "        return BY_score\n",
    "    elif me == 'Z':\n",
    "        return CZ_score\n",
    "\n",
    "\n",
    "def total_score(him, me):\n",
    "    return match(him, me) + sign_score(me)\n"
   ]
  },
  {
   "cell_type": "markdown",
   "metadata": {},
   "source": [
    "### Part 1"
   ]
  },
  {
   "cell_type": "code",
   "execution_count": null,
   "metadata": {},
   "outputs": [],
   "source": [
    "fname = 'input/2.txt'\n",
    "file = open(fname, 'r')\n",
    "lines = file.readlines()\n"
   ]
  },
  {
   "cell_type": "code",
   "execution_count": null,
   "metadata": {},
   "outputs": [],
   "source": [
    "S = 0\n",
    "for line in lines:\n",
    "    line.strip('\\n')\n",
    "    line.split('  ')\n",
    "\n",
    "    S += total_score(line[0], line[2])\n",
    "\n",
    "print(S)\n"
   ]
  },
  {
   "cell_type": "markdown",
   "metadata": {},
   "source": [
    "### Part 2"
   ]
  },
  {
   "cell_type": "code",
   "execution_count": null,
   "metadata": {},
   "outputs": [],
   "source": [
    "def match2(him, me):\n",
    "    if him == 'A':\n",
    "        if me == 'Z':\n",
    "            return win_score + BY_score\n",
    "        elif me == 'Y':\n",
    "            return draw_score + AX_score\n",
    "        else:\n",
    "            return CZ_score\n",
    "    elif him == 'B':\n",
    "        if me == 'Z':\n",
    "            return win_score + CZ_score\n",
    "        elif me == 'Y':\n",
    "            return draw_score + BY_score\n",
    "        else:\n",
    "            return AX_score\n",
    "    elif him == 'C':\n",
    "        if me == 'Z':\n",
    "            return win_score + AX_score\n",
    "        elif me == 'Y':\n",
    "            return draw_score + CZ_score\n",
    "        else:\n",
    "            return BY_score\n"
   ]
  },
  {
   "cell_type": "code",
   "execution_count": null,
   "metadata": {},
   "outputs": [],
   "source": [
    "S = 0\n",
    "for line in lines:\n",
    "    line.strip('\\n')\n",
    "    line.split('  ')\n",
    "\n",
    "    S += match2(line[0], line[2])\n",
    "\n",
    "print(S)\n"
   ]
  },
  {
   "cell_type": "markdown",
   "metadata": {},
   "source": [
    "## Jour 3"
   ]
  },
  {
   "cell_type": "markdown",
   "metadata": {},
   "source": [
    "### Part 1"
   ]
  },
  {
   "cell_type": "code",
   "execution_count": null,
   "metadata": {},
   "outputs": [],
   "source": [
    "\n",
    "with open('input/3.txt', 'r') as file:\n",
    "    lines = file.readlines()\n",
    "    S = 0\n",
    "    for line in lines:\n",
    "        bag = [ord(c) - c.isupper()*(ord('A')-27) - (1-c.isupper())\n",
    "               * (ord('a')-1) for c in line.strip()]\n",
    "        N = len(line)\n",
    "        part1 = bag[0:int(N/2)]\n",
    "        part2 = bag[int(N/2):N]\n",
    "        finish = False\n",
    "        for n in part1:\n",
    "            for m in part2:\n",
    "                if n == m:\n",
    "                    S += n\n",
    "                    finish = True\n",
    "                    break\n",
    "            if finish:\n",
    "                break\n",
    "print(S)\n"
   ]
  },
  {
   "cell_type": "markdown",
   "metadata": {},
   "source": [
    "### Part 2"
   ]
  },
  {
   "cell_type": "code",
   "execution_count": null,
   "metadata": {},
   "outputs": [],
   "source": [
    "\n",
    "with open('input/3.txt', 'r') as file:\n",
    "    lines = file.readlines()\n",
    "    S = 0\n",
    "    for k in range(int(len(lines)/3)):\n",
    "        bag1 = [ord(c) - c.isupper()*(ord('A')-27) - (1-c.isupper())\n",
    "                * (ord('a')-1) for c in lines[3*k].strip()]\n",
    "        bag2 = [ord(c) - c.isupper()*(ord('A')-27) - (1-c.isupper())\n",
    "                * (ord('a')-1) for c in lines[3*k+1].strip()]\n",
    "        bag3 = [ord(c) - c.isupper()*(ord('A')-27) - (1-c.isupper())\n",
    "                * (ord('a')-1) for c in lines[3*k+2].strip()]\n",
    "        finish = False\n",
    "        for n in bag1:\n",
    "            for m in bag2:\n",
    "                for p in bag3:\n",
    "                    if n == m and m == p:\n",
    "                        S += n\n",
    "                        finish = True\n",
    "                        break\n",
    "                if finish:\n",
    "                    break\n",
    "            if finish:\n",
    "                break\n",
    "\n",
    "print(S)\n"
   ]
  },
  {
   "cell_type": "markdown",
   "metadata": {},
   "source": [
    "## Jour 4"
   ]
  },
  {
   "cell_type": "markdown",
   "metadata": {},
   "source": [
    "### Part 1"
   ]
  },
  {
   "cell_type": "code",
   "execution_count": null,
   "metadata": {},
   "outputs": [],
   "source": [
    "with open('input/4.txt', 'r') as file:\n",
    "    lines = file.readlines()\n",
    "    S = 0\n",
    "    for line in lines:\n",
    "        s1, s2 = np.zeros((100,1)), np.zeros((100,1))\n",
    "        elf1, elf2 = line.strip().split(',')\n",
    "        elf1, elf2 = list(map(int,elf1.split('-'))), list(map(int,elf2.split('-')))\n",
    "        s1[elf1[0]:elf1[1]+1]=1\n",
    "        s2[elf2[0]:elf2[1]+1]=1\n",
    "        S += (sum(s1*s2) == min(elf1[1]-elf1[0]+1,elf2[1]-elf2[0]+1))\n",
    "    print(S[0])\n"
   ]
  },
  {
   "cell_type": "markdown",
   "metadata": {},
   "source": [
    "### Part 2"
   ]
  },
  {
   "cell_type": "code",
   "execution_count": null,
   "metadata": {},
   "outputs": [],
   "source": [
    "with open('input/4.txt', 'r') as file:\n",
    "    lines = file.readlines()\n",
    "    S = 0\n",
    "    for line in lines:\n",
    "        s1, s2 = np.zeros((100,1)), np.zeros((100,1))\n",
    "        elf1, elf2 = line.strip().split(',')\n",
    "        elf1, elf2 = list(map(int,elf1.split('-'))), list(map(int,elf2.split('-')))\n",
    "        s1[elf1[0]:elf1[1]+1]=1\n",
    "        s2[elf2[0]:elf2[1]+1]=1\n",
    "        S += sum(s1*s2) >= 1 \n",
    "    print(S[0])"
   ]
  },
  {
   "cell_type": "markdown",
   "metadata": {},
   "source": [
    "## Jour 5"
   ]
  },
  {
   "cell_type": "markdown",
   "metadata": {},
   "source": [
    "### Part 1"
   ]
  },
  {
   "cell_type": "code",
   "execution_count": null,
   "metadata": {},
   "outputs": [],
   "source": [
    "with open('input/5.txt','r') as file:\n",
    "    line = file.readline()\n",
    "    N_stack = int(len(line)/4)\n",
    "    stacks = [[] for i in range(N_stack)]\n",
    "    while line[1]!='1':\n",
    "        for i in range(N_stack):\n",
    "            a = line[4*i+1].strip()\n",
    "            if a!= '': stacks[i].append(a)\n",
    "        line = file.readline()\n",
    "    stacks = [list(reversed(L)) for L in stacks]\n",
    "\n",
    "    line = file.readline()\n",
    "    eof = False\n",
    "    while not eof:\n",
    "        line = file.readline()\n",
    "        if line == '':\n",
    "            eof = True\n",
    "        else:\n",
    "            line = line.replace('move','')\n",
    "            line = line.replace('from',',')\n",
    "            line = line.replace('to',',')\n",
    "            line = line.strip().split(',')\n",
    "            amount = int(line[0].strip())\n",
    "            s = int(line[1].strip()) - 1\n",
    "            e = int(line[2].strip()) - 1\n",
    "            for i in range(amount):\n",
    "                a = stacks[s].pop()\n",
    "                stacks[e].append(a)\n",
    "\n",
    "    print([L[-1] for L in stacks])"
   ]
  },
  {
   "cell_type": "markdown",
   "metadata": {},
   "source": [
    "### Part 2"
   ]
  },
  {
   "cell_type": "code",
   "execution_count": null,
   "metadata": {},
   "outputs": [],
   "source": [
    "with open('input/5.txt','r') as file:\n",
    "    line = file.readline()\n",
    "    N_stack = int(len(line)/4)\n",
    "    stacks = [[] for i in range(N_stack)]\n",
    "    while line[1]!='1':\n",
    "        for i in range(N_stack):\n",
    "            a = line[4*i+1].strip()\n",
    "            if a!= '': stacks[i].append(a)\n",
    "        line = file.readline()\n",
    "    stacks = [list(reversed(L)) for L in stacks]\n",
    "\n",
    "    line = file.readline()\n",
    "    eof = False\n",
    "    while not eof:\n",
    "        line = file.readline()\n",
    "        if line == '':\n",
    "            eof = True\n",
    "        else:\n",
    "            line = line.replace('move','')\n",
    "            line = line.replace('from',',')\n",
    "            line = line.replace('to',',')\n",
    "            line = line.strip().split(',')\n",
    "            amount = int(line[0].strip())\n",
    "            s = int(line[1].strip()) - 1\n",
    "            e = int(line[2].strip()) - 1\n",
    "            stacks[e] = stacks[e]+stacks[s][-amount:]\n",
    "            stacks[s] = stacks[s][0:-amount]\n",
    "\n",
    "    print([L[-1] for L in stacks])"
   ]
  },
  {
   "cell_type": "markdown",
   "metadata": {},
   "source": [
    "## Jour 6"
   ]
  },
  {
   "cell_type": "markdown",
   "metadata": {},
   "source": [
    "### Part 1"
   ]
  },
  {
   "cell_type": "code",
   "execution_count": null,
   "metadata": {},
   "outputs": [],
   "source": [
    "def alldiff(L, n):\n",
    "    exp = [L[0]]\n",
    "    for l in L[1::]:\n",
    "        if not l in exp:\n",
    "            exp.append(l)\n",
    "    return len(exp) == n\n",
    "\n",
    "\n",
    "with open('input/6.txt') as file:\n",
    "    n = 4\n",
    "    line = file.readline()\n",
    "    L = line[0:n]\n",
    "    k = 4\n",
    "    while not alldiff(L, n):\n",
    "        L = L[1:n]+line[k]\n",
    "        k += 1\n",
    "    print(k)\n"
   ]
  },
  {
   "cell_type": "markdown",
   "metadata": {},
   "source": [
    "### Part 2"
   ]
  },
  {
   "cell_type": "code",
   "execution_count": null,
   "metadata": {},
   "outputs": [],
   "source": [
    "with open('input/6.txt') as file:\n",
    "    n = 14\n",
    "    line = file.readline()\n",
    "    L = line[0:n]\n",
    "    k = n\n",
    "    while not alldiff(L, n):\n",
    "        L = L[1:n]+line[k]\n",
    "        k += 1\n",
    "    print(k)\n"
   ]
  },
  {
   "cell_type": "markdown",
   "metadata": {},
   "source": [
    "## Jour 7"
   ]
  },
  {
   "cell_type": "markdown",
   "metadata": {},
   "source": [
    "### Part 1\n"
   ]
  },
  {
   "cell_type": "code",
   "execution_count": null,
   "metadata": {},
   "outputs": [],
   "source": [
    "def path2str(path):\n",
    "    str = ''\n",
    "    for dir in path:\n",
    "        str = str+'/'+dir\n",
    "    return str\n",
    "\n",
    "\n",
    "directories = {}\n",
    "sizes = {}\n",
    "with open('input/7.txt') as file:\n",
    "    lines = file.readlines()\n",
    "    path = []\n",
    "    for line in lines:\n",
    "        line = line.strip().split(' ')\n",
    "        if line[0]=='$':\n",
    "            if line[1] == 'cd':\n",
    "                parent = line[2]\n",
    "                if parent.strip() == '..':\n",
    "                    path.pop()\n",
    "                else : \n",
    "                    path.append(parent)\n",
    "                    if not path2str(path) in directories.keys():\n",
    "                        directories[path2str(path)] = []\n",
    "        else:\n",
    "            strpath = path2str(path) \n",
    "            #children dir\n",
    "            if not strpath in sizes.keys():\n",
    "                sizes[strpath] = 0\n",
    "            if line[0] == 'dir':\n",
    "                directories[strpath].append(path2str(path+[line[1]]))\n",
    "            #file\n",
    "            else:\n",
    "                sizes[strpath] += int(line[0])\n",
    "    \n",
    "    S=0\n",
    "    T = 100000\n",
    "    for dir in directories.keys():\n",
    "        s = 0\n",
    "        for path in directories[dir]:\n",
    "            s += sizes[path]\n",
    "        s+= sizes[dir]\n",
    "        if s<=T:\n",
    "            S+=s \n",
    "\n",
    "    print(S)"
   ]
  },
  {
   "cell_type": "markdown",
   "metadata": {},
   "source": [
    "### Part 2"
   ]
  },
  {
   "cell_type": "code",
   "execution_count": null,
   "metadata": {},
   "outputs": [],
   "source": [
    "def sizetot(dir):\n",
    "    if directories[dir]==[]:\n",
    "        return sizes[dir]\n",
    "    else:\n",
    "        S = sizes[dir]\n",
    "        for child in directories[dir]:\n",
    "            S+= sizetot(child)\n",
    "        return S\n",
    "\n",
    "totSpace = 70000000\n",
    "freeSpace = totSpace\n",
    "reqSpace = 30000000\n",
    "for size in sizes.values():\n",
    "    freeSpace -= size\n",
    "toFree = reqSpace - freeSpace\n",
    "sMin = totSpace\n",
    "for dir in directories.keys():\n",
    "    s = sizetot(dir)\n",
    "    if toFree<= s and s<=sMin:\n",
    "        sMin = s\n",
    "\n",
    "print(sMin)"
   ]
  },
  {
   "cell_type": "markdown",
   "metadata": {},
   "source": [
    "## Jour 8"
   ]
  },
  {
   "cell_type": "markdown",
   "metadata": {},
   "source": [
    "### Part 1"
   ]
  },
  {
   "cell_type": "code",
   "execution_count": null,
   "metadata": {},
   "outputs": [],
   "source": [
    "with open('input/8.txt','r') as file:\n",
    "    lines = file.readlines()\n",
    "    m,n = len(lines), len(lines[0].strip())\n",
    "    M = np.zeros((m,n))\n",
    "    for i,line in enumerate(lines):\n",
    "        for j,c in enumerate(line.strip()):\n",
    "            M[i,j] = int(c)\n",
    "\n",
    "    S = 2*m + 2*n - 4\n",
    "    for i in range(1,m-1):\n",
    "        for j in range(1,n-1):\n",
    "            hij = M[i,j]\n",
    "            u,d,l,r = i-1,i-1,j-1,j+1\n",
    "            U = M[0:i,j]\n",
    "            D = M[i+1:m,j]\n",
    "            L = M[i,0:j]\n",
    "            R = M[i,j+1:n]\n",
    "            if hij>min(max(U),max(D),max(L),max(R)):\n",
    "                S+=1\n",
    "            # hidden = False\n",
    "            # while not hidden:\n",
    "            #     if hij<=min(M[u,j],M[d,j],M[i,l],M[i,r]):\n",
    "            #         hidden = True\n",
    "            #     else:\n",
    "            #         if M[u,j] < hij:\n",
    "            #             u-=1\n",
    "            #         if M[d,j] < hij:\n",
    "            #             d+=1\n",
    "            #         if M[i,l] < hij:\n",
    "            #             l-=1\n",
    "            #         if M[i,r] < hij:\n",
    "            #             r+=1\n",
    "            #         if u<0 or l<0 or d>=m or r>=n:\n",
    "            #             hidden = True\n",
    "            #             S+=1\n",
    "            #             break\n",
    "    print(S)\n",
    "\n"
   ]
  },
  {
   "cell_type": "markdown",
   "metadata": {},
   "source": [
    "### Part 2"
   ]
  },
  {
   "cell_type": "code",
   "execution_count": null,
   "metadata": {},
   "outputs": [],
   "source": [
    "with open('input/8.txt','r') as file:\n",
    "    lines = file.readlines()\n",
    "    m,n = len(lines), len(lines[0].strip())\n",
    "    M = np.zeros((m,n))\n",
    "    for i,line in enumerate(lines):\n",
    "        for j,c in enumerate(line.strip()):\n",
    "            M[i,j] = int(c)\n",
    "\n",
    "    Amax= 0\n",
    "    for i in range(1,m-1):\n",
    "        for j in range(1,n-1):\n",
    "            hij = M[i,j]\n",
    "            u,d,l,r = i-1,i+1,j-1,j+1\n",
    "            U,D,L,R = False,False,False,False\n",
    "            s=0\n",
    "            while s < 4:\n",
    "                if not U:\n",
    "                    if u <=0:\n",
    "                        du = i\n",
    "                        U = True\n",
    "                        s+=1\n",
    "                    elif M[u,j] < hij:\n",
    "                        u-=1\n",
    "                    else:\n",
    "                        du = abs(u-i)\n",
    "                        U = True\n",
    "                        s+=1\n",
    "                if not D:\n",
    "                    if d >=m-1:\n",
    "                        dd = m-i-1\n",
    "                        D = True\n",
    "                        s+=1\n",
    "                    elif M[d,j] < hij:\n",
    "                        d+=1\n",
    "                    else:\n",
    "                        dd = d-i\n",
    "                        D = True\n",
    "                        s+=1\n",
    "                if not L:\n",
    "                    if l<=0:\n",
    "                        dl = j\n",
    "                        L = True\n",
    "                        s+=1\n",
    "                    elif M[i,l] < hij:\n",
    "                        l-=1\n",
    "                    else:\n",
    "                        dl = j-l\n",
    "                        L = True\n",
    "                        s+=1\n",
    "                if not R:\n",
    "                    if r >=n-1:\n",
    "                        dr = n-j-1\n",
    "                        R = True\n",
    "                        s+=1\n",
    "                    elif M[i,r] < hij:\n",
    "                        r+=1\n",
    "                    else:\n",
    "                        dr = r-j\n",
    "                        R = True\n",
    "                        s+=1\n",
    "            Amax = max(Amax,du*dd*dl*dr)\n",
    "                    \n",
    "    print(Amax)\n"
   ]
  },
  {
   "attachments": {},
   "cell_type": "markdown",
   "metadata": {},
   "source": [
    "## Jour 9"
   ]
  },
  {
   "attachments": {},
   "cell_type": "markdown",
   "metadata": {},
   "source": [
    "### Part 1"
   ]
  },
  {
   "cell_type": "code",
   "execution_count": null,
   "metadata": {},
   "outputs": [],
   "source": [
    "class Head():\n",
    "\n",
    "    def __init__(self, x, y, T):\n",
    "        self.name = 'Knot'\n",
    "        self.r = y\n",
    "        self.c = x\n",
    "        self.tail = T\n",
    "\n",
    "    def move(self, D, l):\n",
    "        for i in range(l):\n",
    "            #Moving the head\n",
    "            if D == 'U': self.r -= 1\n",
    "            if D == 'D': self.r += 1\n",
    "            if D == 'L': self.c -= 1\n",
    "            if D == 'R': self.c += 1\n",
    "\n",
    "            if self.tail.name == 'Tail': self.tail.moveT(self) \n",
    "            elif self.tail.name == 'Knot': self.tail.moveK(self)\n",
    "                \n",
    "\n",
    "    def moveK(self, head):\n",
    "        dx, dy = head.c - self.c, head.r-self.r\n",
    "        if sqrt(dx**2+dy**2) > sqrt(2):\n",
    "            self.r += np.sign(dy)*min(1, abs(dy))\n",
    "            self.c += np.sign(dx)*min(1, abs(dx))\n",
    "        if self.tail.name == 'Tail':\n",
    "                self.tail.moveT(self)\n",
    "        elif self.tail.name == 'Knot':\n",
    "                self.tail.moveK(self)\n",
    "\n",
    "class Tail():\n",
    "\n",
    "    def __init__(self, x, y):\n",
    "        self.name = 'Tail'\n",
    "        self.r = y\n",
    "        self.c = x\n",
    "        self.pos = [str(x)+','+str(y)]\n",
    "\n",
    "    def moveT(self, head):\n",
    "        dx, dy = head.c - self.c, head.r-self.r\n",
    "        if sqrt(dx**2+dy**2) > sqrt(2):\n",
    "            self.r += np.sign(dy)*min(1, abs(dy))\n",
    "            self.c += np.sign(dx)*min(1, abs(dx))\n",
    "            if not str(self.c)+','+str(self.r) in self.pos:\n",
    "                self.pos.append(str(self.c)+','+str(self.r))\n",
    "\n",
    "\n",
    "head = Head(0, 0, Tail(0,0))\n",
    "\n",
    "with open('input/9.txt', 'r') as file:\n",
    "    lines = file.readlines()\n",
    "    for line in lines:\n",
    "        [D, l] = line.strip().split(' ')\n",
    "        head.move(D, int(l))\n",
    "        \n",
    "    print(len(head.tail.pos))\n",
    "\n"
   ]
  },
  {
   "cell_type": "markdown",
   "metadata": {},
   "source": []
  },
  {
   "attachments": {},
   "cell_type": "markdown",
   "metadata": {},
   "source": [
    "### Part 2"
   ]
  },
  {
   "cell_type": "code",
   "execution_count": null,
   "metadata": {},
   "outputs": [],
   "source": [
    "class Rope():\n",
    "    \n",
    "    def __init__(self,L):\n",
    "        self.L = L\n",
    "        self.T = Tail(0,0)\n",
    "        self.knots = [self.T]\n",
    "        for k in range(L-1):\n",
    "            self.knots.append(Head(0,0,self.knots[-1]))\n",
    "        self.H = self.knots[-1]\n",
    "\n",
    "    def move(self,D,l):\n",
    "        for i in range(l):\n",
    "            self.H.move(D,1)\n",
    "#N.B : with length 2 we have the answer of part 1, length 10 for part 2\n",
    "rope = Rope(10)\n",
    "with open('input/9.txt', 'r') as file:\n",
    "    lines = file.readlines()\n",
    "    for line in lines:\n",
    "        [D, l] = line.strip().split(' ')\n",
    "        rope.move(D, int(l))\n",
    "        \n",
    "    print(len(rope.T.pos))"
   ]
  },
  {
   "attachments": {},
   "cell_type": "markdown",
   "metadata": {},
   "source": [
    "## Jour 10\n",
    "### Part 1"
   ]
  },
  {
   "cell_type": "code",
   "execution_count": null,
   "metadata": {},
   "outputs": [],
   "source": [
    "X = 1\n",
    "cycle = 0\n",
    "save = [20,60,100,140,180,220]\n",
    "values = []\n",
    "with open('input/10.txt','r') as file:\n",
    "    lines = file.readlines()\n",
    "    for line in lines:\n",
    "        line = line.strip().split(' ')\n",
    "        # print(line)\n",
    "        if len(line) == 1:\n",
    "            cycle += 1\n",
    "            if cycle in save:\n",
    "                values.append(X)\n",
    "        else:\n",
    "            for i in range(2):\n",
    "                cycle+=1\n",
    "                if cycle in save:\n",
    "                    values.append(X)\n",
    "            X+=int(line[1])\n",
    "\n",
    "values = np.array(values)\n",
    "save = np.array(save)\n",
    "print(np.dot(save,values))\n",
    "            "
   ]
  },
  {
   "attachments": {},
   "cell_type": "markdown",
   "metadata": {},
   "source": [
    "### Part 2"
   ]
  },
  {
   "cell_type": "code",
   "execution_count": null,
   "metadata": {},
   "outputs": [],
   "source": [
    "X = 1\n",
    "cycle = 0\n",
    "grid = []\n",
    "with open('input/10.txt','r') as file:\n",
    "    lines = file.readlines()\n",
    "    for line in lines:\n",
    "        line = line.strip().split(' ')\n",
    "        if len(line) == 1:\n",
    "            grid.append(cycle%40 in [X-1,X+1,X])\n",
    "            cycle += 1\n",
    "        else:\n",
    "            for i in range(2):\n",
    "                grid.append(cycle%40 in [X-1,X+1,X])\n",
    "                cycle+=1\n",
    "            X+=int(line[1])\n",
    "\n",
    "# Block to create the output screen\n",
    "\n",
    "\n",
    "N = len(grid)//40\n",
    "M = [grid[k*40:40*(k+1)] for k in range(N)]\n",
    "with open('output/10.txt','w') as file:\n",
    "    for i in range(N):\n",
    "        for j in range(40):\n",
    "            if M[i][j]:\n",
    "                file.write('#')\n",
    "            else:\n",
    "                file.write('.')\n",
    "        file.write('\\n')\n",
    "\n",
    "# View output in output directory"
   ]
  },
  {
   "attachments": {},
   "cell_type": "markdown",
   "metadata": {},
   "source": [
    "## Jour 11\n",
    "### Part 1"
   ]
  },
  {
   "cell_type": "code",
   "execution_count": null,
   "metadata": {},
   "outputs": [],
   "source": [
    "class Monkey():\n",
    "\n",
    "    def __init__(self,id,items,operation,test,idtr,idfa) -> None:\n",
    "        self.id = id\n",
    "        self.items = items\n",
    "        op = operation.strip().split(' ')\n",
    "        self.operation = op[0]\n",
    "        self.coeff = op[1]\n",
    "        self.test = test\n",
    "        self.idtr = idtr\n",
    "        self.idfa = idfa\n",
    "        self.tr = None\n",
    "        self.fal = None\n",
    "        self.ninspected = 0\n",
    "\n",
    "    def set_receivers(self,monkeys):\n",
    "        self.tr = monkeys[self.idtr]\n",
    "        self.fal = monkeys[self.idfa]\n",
    "\n",
    "\n",
    "    def throw(self):\n",
    "        # print(\"Monkey \"+str(self.id))\n",
    "        for item in self.items:\n",
    "            self.ninspected += 1\n",
    "            # print(\"Monkey inspects an item with a worry level of \"+str(item))\n",
    "            # performs the operation\n",
    "            if self.operation == '*':\n",
    "                try:\n",
    "                    W = item*int(self.coeff)\n",
    "                except:\n",
    "                    W = item*item\n",
    "            elif self.operation == '+':\n",
    "                try:\n",
    "                    W = item+int(self.coeff)\n",
    "                except:\n",
    "                    W = item+item\n",
    "            # print(\"Worry level before bored \"+str(W))\n",
    "            W = int(W/3)\n",
    "            # print(\"Relieved \"+str(W))\n",
    "            \n",
    "            if W%self.test == 0:\n",
    "                self.tr.items.append(W)\n",
    "            else:\n",
    "                self.fal.items.append(W)\n",
    "        self.items = []\n",
    "\n",
    "\n",
    "with open('input/11.txt','r') as file:\n",
    "    lines = file.readlines()\n",
    "    N = len(lines)\n",
    "    monkeys = []\n",
    "    for k in range(int((N+1)/7)):\n",
    "        id = int(search(\"Monkey {}:\",lines[7*k])[0])\n",
    "        items = [int(i) for i in search(\"items: {}\\n\",lines[7*k+1])[0].split(', ')]\n",
    "        operation = search(\"old {}\\n\",lines[7*k+2])[0]\n",
    "        test = int(search(\"by {}\\n\",lines[7*k+3])[0])\n",
    "        idtr = int(search(\"to monkey {}\\n\",lines[7*k+4])[0])\n",
    "        idfa = int(search(\"to monkey {}\\n\",lines[7*k+5])[0])\n",
    "        monkeys.append(Monkey(id,items,operation,test,idtr,idfa))\n",
    "\n",
    "    for monkey in monkeys:\n",
    "        monkey.set_receivers(monkeys)\n",
    "\n",
    "N_round = 20\n",
    "for k in range(N_round):\n",
    "    for monkey in monkeys:\n",
    "        monkey.throw()\n",
    "L = []\n",
    "for monkey in monkeys:\n",
    "   L.append(monkey.ninspected)\n",
    "L = sorted(L)\n",
    "print(L.pop()*L.pop())\n",
    "    "
   ]
  },
  {
   "attachments": {},
   "cell_type": "markdown",
   "metadata": {},
   "source": [
    "### Part 2"
   ]
  },
  {
   "cell_type": "code",
   "execution_count": null,
   "metadata": {},
   "outputs": [],
   "source": [
    "class Monkey():\n",
    "\n",
    "    def __init__(self,id,items,operation,test,idtr,idfa) -> None:\n",
    "        self.id = id\n",
    "        self.items = items\n",
    "        self.itemmod = []\n",
    "        op = operation.strip().split(' ')\n",
    "        self.operation = op[0]\n",
    "        self.coeff = op[1]\n",
    "        self.test = test\n",
    "        self.idtr = idtr\n",
    "        self.idfa = idfa\n",
    "        self.tr = None\n",
    "        self.fal = None\n",
    "        self.ninspected = 0\n",
    "        self.tests = []\n",
    "\n",
    "    def set_receivers(self,monkeys,tests):\n",
    "        self.tr = monkeys[self.idtr]\n",
    "        self.fal = monkeys[self.idfa]\n",
    "        self.tests = tests\n",
    "        for item in self.items:\n",
    "            self.itemmod.append(np.array([item%test for test in tests]))\n",
    "        \n",
    "\n",
    "    def update_mod(self):\n",
    "        # print('before : '+str(self.itemmod))\n",
    "        # for item in self.itemmod:\n",
    "        #     for i,itemod in enumerate(item):\n",
    "        #        itemod = itemod%self.tests[i]\n",
    "        self.itemmod = [np.array([item[i]%self.tests[i] for i in range(np.size(item))]) for item in self.itemmod]\n",
    "        # print('after  : '+str(self.itemmod))\n",
    "\n",
    "    def throw(self):\n",
    "        self.update_mod()\n",
    "        for item in self.itemmod:\n",
    "            self.ninspected += 1\n",
    "           \n",
    "            if self.operation == '*':\n",
    "                try:\n",
    "                    W = item*int(self.coeff)\n",
    "                except:\n",
    "                    W = item*item\n",
    "            elif self.operation == '+':\n",
    "                try:\n",
    "                    W = item+int(self.coeff)\n",
    "                except:\n",
    "                    W = item+item\n",
    "\n",
    "            if W[self.id]%self.test == 0:\n",
    "                self.tr.itemmod.append(W)\n",
    "            else:\n",
    "                self.fal.itemmod.append(W)\n",
    "            \n",
    "        self.itemmod = []\n",
    "\n",
    "\n",
    "with open('input/11.txt','r') as file:\n",
    "    lines = file.readlines()\n",
    "    N = len(lines)\n",
    "    monkeys = []\n",
    "    tests = []\n",
    "    for k in range(int((N+1)/7)):\n",
    "        id = int(search(\"Monkey {}:\",lines[7*k])[0])\n",
    "        items = [int(i) for i in search(\"items: {}\\n\",lines[7*k+1])[0].split(', ')]\n",
    "        operation = search(\"old {}\\n\",lines[7*k+2])[0]\n",
    "        test = int(search(\"by {}\\n\",lines[7*k+3])[0])\n",
    "        tests.append(test)\n",
    "        idtr = int(search(\"to monkey {}\\n\",lines[7*k+4])[0])\n",
    "        idfa = int(search(\"to monkey {}\\n\",lines[7*k+5])[0])\n",
    "        monkeys.append(Monkey(id,items,operation,test,idtr,idfa))\n",
    "\n",
    "    for monkey in monkeys:\n",
    "        monkey.set_receivers(monkeys,tests)\n",
    "print(tests)\n",
    "N_round = 10000\n",
    "for k in range(N_round):\n",
    "    # print(\"round \"+str(k))\n",
    "    for monkey in monkeys:\n",
    "        monkey.throw()\n",
    "L = []\n",
    "for monkey in monkeys:\n",
    "   L.append(monkey.ninspected)\n",
    "print(L)\n",
    "L = sorted(L)\n",
    "print(L.pop()*L.pop())\n"
   ]
  },
  {
   "attachments": {},
   "cell_type": "markdown",
   "metadata": {},
   "source": [
    "## Jour 12"
   ]
  },
  {
   "attachments": {},
   "cell_type": "markdown",
   "metadata": {},
   "source": [
    "### Part 1"
   ]
  },
  {
   "cell_type": "code",
   "execution_count": 16,
   "metadata": {},
   "outputs": [],
   "source": [
    "with open('input/12.txt','r') as file:\n",
    "    lines = file.readlines()\n",
    "    grid = [[ord(a)-ord('a') for a in line.strip()] for line in lines]\n",
    "    for i,line in enumerate(grid):\n",
    "        for j,height in enumerate(line):\n",
    "            if height == -14:\n",
    "                x_start = i\n",
    "                y_start = j\n",
    "                grid[i][j] = 0\n",
    "            elif height == -28:\n",
    "                x_end= i\n",
    "                y_end= j\n",
    "                grid[i][j] = ord('z')-ord('a')\n",
    "\n",
    "\n",
    "class Node():\n",
    "\n",
    "    def __init__(self,x,y,h) -> None:\n",
    "        self.x = x\n",
    "        self.y = y\n",
    "        self.h = h\n",
    "        self.d = inf\n",
    "        self.accessible_node = []\n",
    "        self.pred = []\n",
    "\n",
    "    def add_node(self,node):\n",
    "        self.accessible_node.append(node)\n",
    "\n",
    "    def add_pred(self,node):\n",
    "        self.pred.append(node)\n",
    "class Graph():\n",
    "\n",
    "    def __init__(self,grid,up = True) -> None:\n",
    "        self.grid = []\n",
    "        self.h = len(grid)\n",
    "        self.w = len(grid[0])\n",
    "        alpha = 1\n",
    "        if not up:\n",
    "            alpha = -1\n",
    "        for i,line in enumerate(grid):\n",
    "            self.grid.append([Node(i,j,h) for j,h in enumerate(line)])\n",
    "        for i in range(self.h):\n",
    "            for j in range(self.w):\n",
    "                hij = grid[i][j]\n",
    "                if i >0 and alpha*(grid[i-1][j] - hij)<=1 : \n",
    "                    self.grid[i][j].add_node(self.grid[i-1][j])\n",
    "                if i < self.h-1 and alpha*(grid[i+1][j] - hij)<=1 : \n",
    "                    self.grid[i][j].add_node(self.grid[i+1][j])\n",
    "                if j >0 and alpha*(grid[i][j-1] - hij)<=1 : \n",
    "                    self.grid[i][j].add_node(self.grid[i][j-1])\n",
    "                if j < self.w-1 and alpha*(grid[i][j+1] -hij)<=1  : \n",
    "                    self.grid[i][j].add_node(self.grid[i][j+1])\n",
    "\n",
    "    def dist(self,x_start,y_start):\n",
    "        self.grid[x_start][y_start].d = 0\n",
    "        for k in range(self.h*self.w-1):\n",
    "            for i in range(self.h):\n",
    "                for j in range(self.w):\n",
    "                    node = self.grid[i][j]\n",
    "                    for arc in node.accessible_node:\n",
    "                        if node.d + 1 < arc.d:\n",
    "                            arc.d = node.d +1\n",
    "                            arc.add_pred(node)\n",
    "        \n",
    "\n",
    "\n",
    "            \n",
    "\n"
   ]
  },
  {
   "cell_type": "code",
   "execution_count": 9,
   "metadata": {},
   "outputs": [
    {
     "name": "stdout",
     "output_type": "stream",
     "text": [
      "484\n"
     ]
    }
   ],
   "source": [
    "graph = Graph(grid)\n",
    "\n",
    "graph.dist(x_start,y_start)\n",
    "    \n",
    "print(graph.grid[x_end][y_end].d)\n"
   ]
  },
  {
   "attachments": {},
   "cell_type": "markdown",
   "metadata": {},
   "source": [
    "### Part 2"
   ]
  },
  {
   "cell_type": "code",
   "execution_count": 17,
   "metadata": {},
   "outputs": [],
   "source": [
    "graph = Graph(grid,False)\n",
    "\n",
    "graph.dist(x_end,y_end)"
   ]
  },
  {
   "cell_type": "code",
   "execution_count": 18,
   "metadata": {},
   "outputs": [
    {
     "name": "stdout",
     "output_type": "stream",
     "text": [
      "478\n"
     ]
    }
   ],
   "source": [
    "dmin = 1000\n",
    "for i,line in enumerate(grid):\n",
    "    for j,el in enumerate(line):\n",
    "        if el == 0:\n",
    "            dmin = min(dmin, graph.grid[i][j].d)\n",
    "print(dmin)"
   ]
  },
  {
   "attachments": {},
   "cell_type": "markdown",
   "metadata": {},
   "source": [
    "## Jour 13"
   ]
  },
  {
   "attachments": {},
   "cell_type": "markdown",
   "metadata": {},
   "source": [
    "### Part 1"
   ]
  },
  {
   "cell_type": "code",
   "execution_count": 56,
   "metadata": {},
   "outputs": [
    {
     "name": "stdout",
     "output_type": "stream",
     "text": [
      "6272\n"
     ]
    }
   ],
   "source": [
    "def compare(L1,L2):\n",
    "    if type(L1) == type(L2) and type(L1)==int:\n",
    "        return L1==L2,L1<L2\n",
    "    elif type(L1) == type(L2) and type(L1)==list:\n",
    "        cont = True\n",
    "        i = 0\n",
    "        while cont and i < min(len(L1),len(L2)):\n",
    "            cont, ordered = compare(L1[i],L2[i])\n",
    "            if ordered:\n",
    "                return False, True\n",
    "            i += 1\n",
    "        \n",
    "        if not cont:\n",
    "            return False, ordered\n",
    "        if i ==len(L1) and len(L1)!=len(L2):\n",
    "            return False, True\n",
    "        if i == len(L2) and len(L1)!=len(L2):\n",
    "            return False, False\n",
    "        else:\n",
    "            return True, False\n",
    "    else:\n",
    "        if type(L1)==int: L1 = [L1]\n",
    "        elif type(L2)==int: L2 = [L2]\n",
    "        return compare(L1,L2)\n",
    "\n",
    "\n",
    "\n",
    "\n",
    "with open('input/13.txt','r') as file:\n",
    "    pairs = [[ast.literal_eval(L) for L in pair.split('\\n')] for pair in file.read().split('\\n\\n')]\n",
    "    \n",
    "\n",
    "s = 0\n",
    "for i,pair in enumerate(pairs):\n",
    "    \n",
    "    s += (i+1)*compare(pair[0],pair[1])[1]\n",
    "\n",
    "print(s)"
   ]
  },
  {
   "attachments": {},
   "cell_type": "markdown",
   "metadata": {},
   "source": [
    "### Part 2"
   ]
  },
  {
   "cell_type": "code",
   "execution_count": 126,
   "metadata": {},
   "outputs": [
    {
     "name": "stdout",
     "output_type": "stream",
     "text": [
      "22288\n"
     ]
    }
   ],
   "source": [
    "with open('input/13.txt','r') as file:\n",
    "    pairs = [[ast.literal_eval(L) for L in pair.split('\\n')] for pair in file.read().split('\\n\\n')]\n",
    "    P = []\n",
    "    for pair in pairs:\n",
    "        P.append(pair[0])\n",
    "        P.append(pair[1])\n",
    "\n",
    "def sort(P):\n",
    "    n = len(P)\n",
    "    for i in range(0,n):\n",
    "        min = i\n",
    "        for j in range(i+1,n):\n",
    "            if compare(P[j],P[min])[1]: min = j\n",
    "        if min != i :\n",
    "            P[i],P[min]= P[min],P[i]\n",
    "\n",
    "p1 = [[2]]   \n",
    "p2 = [[6]]\n",
    "P.append(p1)\n",
    "P.append(p2)\n",
    "\n",
    "sort(P)\n",
    "\n",
    "\n",
    "i1 = P.index(p1)\n",
    "i2 = P.index(p2)\n",
    "\n",
    "print((i1+1)*(i2+1))"
   ]
  },
  {
   "attachments": {},
   "cell_type": "markdown",
   "metadata": {},
   "source": [
    "## Jour 14"
   ]
  },
  {
   "attachments": {},
   "cell_type": "markdown",
   "metadata": {},
   "source": [
    "### Part 1"
   ]
  },
  {
   "cell_type": "code",
   "execution_count": 59,
   "metadata": {},
   "outputs": [
    {
     "name": "stdout",
     "output_type": "stream",
     "text": [
      "979\n"
     ]
    }
   ],
   "source": [
    "class Grid():\n",
    "    def __init__(self,lines) -> None:\n",
    "        h,wmin, wmax = 0,inf,0\n",
    "        for path in lines:\n",
    "            for line in path:\n",
    "                wmin = min(wmin,line[0])\n",
    "                wmax = max(wmax,line[0])\n",
    "                h = max(h,line[1])\n",
    "        grid = np.zeros((h+2,int(wmax-wmin+3)))\n",
    "        for path in lines:\n",
    "            for i in range(len(path)-1):\n",
    "                xstart,ystart = path[i][0]-wmin+1,path[i][1]\n",
    "                xend,yend = path[i+1][0]-wmin+1,path[i+1][1]\n",
    "                for x in range(min(xstart,xend),max(xstart,xend)+1):\n",
    "                    for y in range(min(ystart,yend),max(ystart,yend)+1):\n",
    "                        grid[y,x] = 1\n",
    "        self.wmin= wmin\n",
    "        self.h = h+1\n",
    "        self.map = grid\n",
    "        self.n = 0  # number of step\n",
    "        self.done = False   # does sand fall in the abyss\n",
    "\n",
    "    def disp(self):\n",
    "        with open('output/14.txt','w') as file:\n",
    "            for line in self.map:\n",
    "                for c in line:\n",
    "                    if c == 1:file.write('#')\n",
    "                    elif c == 2:file.write('o')\n",
    "                    else:file.write('.')\n",
    "\n",
    "                file.write('\\n')\n",
    "\n",
    "    def add_sand(self):\n",
    "        (xpos,ypos) = (500 - self.wmin+1, 0)\n",
    "        m = self.move(xpos,ypos)\n",
    "        while ypos<self.h and m!=[0,0]:\n",
    "            xpos += m[0]\n",
    "            ypos+=m[1] \n",
    "            try:\n",
    "                m = self.move(xpos,ypos)\n",
    "            except: \n",
    "                self.done = True\n",
    "\n",
    "        try:\n",
    "            self.map[ypos,xpos]=2\n",
    "            grid.n += 1\n",
    "        except:\n",
    "            self.done = True\n",
    "\n",
    "\n",
    "    def move(self,x,y):\n",
    "        if self.map[y+1,x] > 0:\n",
    "            if self.map[y+1,x-1] > 0:\n",
    "                if self.map[y+1,x+1] > 0:\n",
    "                    return [0,0]\n",
    "                return [1,1] #goes down right\n",
    "            return [-1,1] #goes down left\n",
    "        return [0,1] #goes down\n",
    "\n",
    "with open('input/14.txt','r') as file:\n",
    "    lines = [[[int(k) for k in pair.strip().split(',')] for pair in line.split('->')] for line in file.readlines()]\n",
    "\n",
    "\n",
    "grid = Grid(lines)\n",
    "\n",
    "while not grid.done:\n",
    "    grid.add_sand()\n",
    "\n",
    "print(grid.n-1)\n",
    "grid.disp()"
   ]
  },
  {
   "attachments": {},
   "cell_type": "markdown",
   "metadata": {},
   "source": [
    "### Part 2"
   ]
  },
  {
   "cell_type": "code",
   "execution_count": 97,
   "metadata": {},
   "outputs": [
    {
     "name": "stdout",
     "output_type": "stream",
     "text": [
      "29044\n"
     ]
    }
   ],
   "source": [
    "class Grid():\n",
    "    def __init__(self,lines) -> None:\n",
    "        h,wmin, wmax = 0,inf,0\n",
    "        for path in lines:\n",
    "            for line in path:\n",
    "                wmin = min(wmin,line[0])\n",
    "                wmax = max(wmax,line[0])\n",
    "                h = max(h,line[1])\n",
    "        grid = np.zeros((h+3,2*(h+1)+3))\n",
    "        for path in lines:\n",
    "            for i in range(len(path)-1):\n",
    "                xstart,ystart = path[i][0]-500+h+2,path[i][1]\n",
    "                xend,yend = path[i+1][0]-500+h+2,path[i+1][1]\n",
    "                for x in range(min(xstart,xend),max(xstart,xend)+1):\n",
    "                    for y in range(min(ystart,yend),max(ystart,yend)+1):\n",
    "                        grid[y,x] = 1\n",
    "        grid[-1,:] = 1\n",
    "        self.wmin= wmin\n",
    "        self.h = h+1\n",
    "        self.map = grid\n",
    "        self.n = 0  # number of step\n",
    "        self.done = False   # does sand fall in the abyss\n",
    "\n",
    "    def disp(self):\n",
    "        with open('output/14.txt','w') as file:\n",
    "            for line in self.map:\n",
    "                for c in line:\n",
    "                    if c == 1:file.write('#')\n",
    "                    elif c == 2:file.write('o')\n",
    "                    else:file.write('.')\n",
    "\n",
    "                file.write('\\n')\n",
    "\n",
    "    def add_sand(self):\n",
    "        (xpos,ypos) = (self.h+1, 0)\n",
    "        if self.map[ypos,xpos]>0:\n",
    "            self.done = True\n",
    "        m = self.move(xpos,ypos)\n",
    "        while ypos<self.h and m!=[0,0]:\n",
    "            xpos += m[0]\n",
    "            ypos+=m[1] \n",
    "            try:\n",
    "                m = self.move(xpos,ypos)\n",
    "            except: \n",
    "                self.done = True\n",
    "\n",
    "        try:\n",
    "            self.map[ypos,xpos]=2\n",
    "            grid.n += 1\n",
    "        except:\n",
    "            self.done = True\n",
    "\n",
    "\n",
    "    def move(self,x,y):\n",
    "        if self.map[y+1,x] > 0:\n",
    "            if self.map[y+1,x-1] > 0:\n",
    "                if self.map[y+1,x+1] > 0:\n",
    "                    return [0,0]\n",
    "                return [1,1] #goes down right\n",
    "            return [-1,1] #goes down left\n",
    "        return [0,1] #goes down\n",
    "\n",
    "with open('input/14.txt','r') as file:\n",
    "    lines = [[[int(k) for k in pair.strip().split(',')] for pair in line.split('->')] for line in file.readlines()]\n",
    "\n",
    "\n",
    "grid = Grid(lines)\n",
    "\n",
    "while not grid.done:\n",
    "    grid.add_sand()\n",
    "\n",
    "print(grid.n-1)\n",
    "grid.disp()"
   ]
  },
  {
   "attachments": {},
   "cell_type": "markdown",
   "metadata": {},
   "source": [
    "## Jour 15"
   ]
  },
  {
   "attachments": {},
   "cell_type": "markdown",
   "metadata": {},
   "source": [
    "### Part 1"
   ]
  },
  {
   "cell_type": "code",
   "execution_count": 3,
   "metadata": {},
   "outputs": [
    {
     "name": "stdout",
     "output_type": "stream",
     "text": [
      "4883971\n"
     ]
    }
   ],
   "source": [
    "with open('input/15.txt','r') as file:\n",
    "    lines = file.readlines()\n",
    "\n",
    "L = []  # list of [x_sens, y_sens, x_beac, y_beac]\n",
    "for line in lines:\n",
    "    pos = parse('Sensor at x={}, y={}: closest beacon is at x={}, y={}',line)\n",
    "    L.append([int(k) for k in pos])\n",
    "xmin,xmax = inf,-inf\n",
    "Sq = [] # list of [x_sens, y_sens, d_to_closest beac]      \n",
    "for l in L:\n",
    "    # print(l)\n",
    "    d = abs(l[2]-l[0])+abs(l[3]-l[1])\n",
    "    xmin = min(xmin,l[0]-d)\n",
    "    xmax = max(xmax,l[0]+d)\n",
    "    Sq.append([l[0],l[1],d])\n",
    "# print(Sq)\n",
    "def Inter(line,Sq):\n",
    "    inter = [] # intervals where there cannot be beacon [x_start, x_end]\n",
    "    for s in Sq:\n",
    "        de = abs(line-s[1])\n",
    "        if de <= s[2]:\n",
    "            x_start = s[0] + abs(line-s[1]) - s[2]\n",
    "            x_end = s[0] - abs(line-s[1]) + s[2]\n",
    "            inter.append([x_start,x_end])\n",
    "\n",
    "    return inter\n",
    "\n",
    "def merge(I):\n",
    "    for i in range(len(I)):\n",
    "        for j in range(len(I)):\n",
    "            if i != j:\n",
    "                if I[j][0]<=I[i][0] and I[i][0]<=I[j][1]:\n",
    "                    I[i][0] = I[j][0]\n",
    "                if I[j][0]<=I[i][1] and I[i][1]<=I[j][1]:\n",
    "                    I[i][1] = I[j][1]\n",
    "\n",
    "    return I\n",
    "\n",
    "def clean_inter(I):\n",
    "    C = []\n",
    "    for i in I:\n",
    "        if i not in C:\n",
    "            C.append(i)\n",
    "    return C\n",
    "\n",
    "def freeslots(line,Sq,L):\n",
    "    inter = Inter(line,Sq)\n",
    "    for i in range(len(inter)):\n",
    "        inter = merge(inter)\n",
    "\n",
    "    inter = clean_inter(inter)\n",
    "    n = 0\n",
    "    for i in inter:\n",
    "        n+=i[1]-i[0]+1\n",
    "    deducedbeac = []\n",
    "    for l in L:\n",
    "        for i in inter:\n",
    "            if l[3] == line and i[0]<=l[2] and l[2]<=i[1] and [l[2],l[3]] not in deducedbeac:\n",
    "                deducedbeac.append([l[2],l[3]])\n",
    "                n-=1\n",
    "                break\n",
    "    return n\n",
    "\n",
    "    \n",
    "line = 2000000\n",
    "print(freeslots(line,Sq,L))"
   ]
  },
  {
   "attachments": {},
   "cell_type": "markdown",
   "metadata": {},
   "source": [
    "### Part 2"
   ]
  },
  {
   "cell_type": "code",
   "execution_count": 224,
   "metadata": {},
   "outputs": [],
   "source": [
    "def trim_int(I,xmin,xmax):\n",
    "    for i in I:\n",
    "        i[0] = max(xmin,i[0])\n",
    "        i[1] = min(xmax,i[1])\n",
    "    return I\n",
    "\n",
    "def isfreeslots(line,Sq,L,xmin,xmax):\n",
    "    inter = Inter(line,Sq)\n",
    "    while len(inter)>2:\n",
    "        inter = merge(inter)\n",
    "        inter = clean_inter(inter)\n",
    "        inter = trim_int(inter,xmin,xmax)\n",
    "    inter = merge(inter)\n",
    "    inter = clean_inter(inter)\n",
    "    inter = trim_int(inter,xmin,xmax)\n",
    "    return len(inter)>1\n",
    "\n",
    "xmin = 0\n",
    "ymin = 0\n",
    "xmax = 4000000\n",
    "ymax = 4000000\n",
    "line = -1\n",
    "isslot = False\n",
    "while not isslot :\n",
    "    line +=1\n",
    "    isslot = isfreeslots(line,Sq,L,xmin,xmax)\n",
    "    \n",
    "    \n"
   ]
  },
  {
   "cell_type": "code",
   "execution_count": 225,
   "metadata": {},
   "outputs": [
    {
     "name": "stdout",
     "output_type": "stream",
     "text": [
      "2767556\n",
      "[[0, 3172755], [3172757, 4000000]]\n",
      "3172756\n",
      "12691026767556\n"
     ]
    }
   ],
   "source": [
    "print(line)\n",
    "y = line\n",
    "inter = Inter(y,Sq)\n",
    "while(len(inter)>2):\n",
    "    inter = merge(inter)\n",
    "    inter = clean_inter(inter)\n",
    "    inter = trim_int(inter,xmin,xmax)\n",
    "print(inter)\n",
    "x = inter[0][1]+1\n",
    "print(x)\n",
    "print(xmax*x+y)"
   ]
  },
  {
   "cell_type": "code",
   "execution_count": 26,
   "metadata": {},
   "outputs": [
    {
     "name": "stdout",
     "output_type": "stream",
     "text": [
      "[3172756, 2767556]\n",
      "12691026767556\n"
     ]
    }
   ],
   "source": [
    "# pour chaque senseur \n",
    "# pour chaque cellule sur le bord du poly\n",
    "# tant que la cellule est pas capté par un autre senseur\n",
    "# on regarde les autres senseurs\n",
    "# si capté par aucun on a la solution\n",
    "def poly(s):\n",
    "    L = []\n",
    "    d = s[2]+1\n",
    "    for i in range(d+1):\n",
    "        L.append([s[0]-i,s[1]+d-i])\n",
    "        L.append([s[0]+i,s[1]+d-i])\n",
    "        L.append([s[0]-i,s[1]-d+i])\n",
    "        L.append([s[0]+i,s[1]-d+i])\n",
    "    return L\n",
    "xmin = 0\n",
    "ymin = 0\n",
    "xmax = 4000000\n",
    "ymax = 4000000\n",
    "found = False\n",
    "sensor_i = 0\n",
    "while not found:\n",
    "    s = Sq[sensor_i]\n",
    "    for pos in poly(s):\n",
    "        if xmin<=pos[0] and pos[0]<=xmax and ymin<=pos[1] and pos[1]<=ymax:\n",
    "            seen = False\n",
    "            other = 0\n",
    "            # print(pos)\n",
    "            while not seen and other<len(Sq):\n",
    "                # print(other)\n",
    "                if other!= sensor_i:\n",
    "                    s2 = Sq[other]\n",
    "                    line = pos[1]\n",
    "                    I = Inter(line,[s2])\n",
    "                    # print(pos[0])\n",
    "                    # print(I)\n",
    "                    if len(I)>=1:\n",
    "                        if I[0][0]<=pos[0] and pos[0]<=I[0][1]:\n",
    "                            seen = True\n",
    "                other += 1\n",
    "            if not seen:\n",
    "                found = True\n",
    "                break\n",
    "    sensor_i += 1\n",
    "print(pos)\n",
    "print(xmax*pos[0]+pos[1])\n"
   ]
  }
 ],
 "metadata": {
  "kernelspec": {
   "display_name": "Python 3.10.6 64-bit",
   "language": "python",
   "name": "python3"
  },
  "language_info": {
   "codemirror_mode": {
    "name": "ipython",
    "version": 3
   },
   "file_extension": ".py",
   "mimetype": "text/x-python",
   "name": "python",
   "nbconvert_exporter": "python",
   "pygments_lexer": "ipython3",
   "version": "3.10.6"
  },
  "orig_nbformat": 4,
  "vscode": {
   "interpreter": {
    "hash": "916dbcbb3f70747c44a77c7bcd40155683ae19c65e1c03b4aa3499c5328201f1"
   }
  }
 },
 "nbformat": 4,
 "nbformat_minor": 2
}
