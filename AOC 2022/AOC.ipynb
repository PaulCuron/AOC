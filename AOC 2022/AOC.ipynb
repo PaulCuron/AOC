{
 "cells": [
  {
   "cell_type": "code",
   "execution_count": 5,
   "metadata": {},
   "outputs": [],
   "source": [
    "import numpy as np\n",
    "from math import *"
   ]
  },
  {
   "cell_type": "markdown",
   "metadata": {},
   "source": [
    "## Jour 1"
   ]
  },
  {
   "cell_type": "markdown",
   "metadata": {},
   "source": [
    "### Part 1"
   ]
  },
  {
   "cell_type": "code",
   "execution_count": null,
   "metadata": {},
   "outputs": [],
   "source": [
    "fname = 'input/1.txt'\n",
    "file = open(fname, 'r')\n",
    "lines = file.readlines()\n"
   ]
  },
  {
   "cell_type": "code",
   "execution_count": null,
   "metadata": {},
   "outputs": [],
   "source": [
    "clean_line = []\n",
    "S_1 = 0\n",
    "S_2 = 0\n",
    "S_3 = 0\n",
    "S = 0\n",
    "for line in lines:\n",
    "    x = line.strip('\\n')\n",
    "    if x == '':\n",
    "        clean_line.append(0)\n",
    "        if S > S_3:\n",
    "            if S > S_2:\n",
    "                if S > S_1:\n",
    "                    S_3, S_2, S_1 = S_2, S_1, S\n",
    "                else:\n",
    "                    S_3, S_2 = S_2, S\n",
    "            else:\n",
    "                S_3 = S\n",
    "        S = 0\n",
    "    else:\n",
    "\n",
    "        clean_line.append(int(x))\n",
    "        S += int(x)\n"
   ]
  },
  {
   "cell_type": "code",
   "execution_count": null,
   "metadata": {},
   "outputs": [],
   "source": [
    "print(S_1)\n"
   ]
  },
  {
   "cell_type": "markdown",
   "metadata": {},
   "source": [
    "### Part 2"
   ]
  },
  {
   "cell_type": "code",
   "execution_count": null,
   "metadata": {},
   "outputs": [],
   "source": [
    "print(S_1 + S_2 + S_3)\n"
   ]
  },
  {
   "cell_type": "markdown",
   "metadata": {},
   "source": [
    "## Jour 2"
   ]
  },
  {
   "cell_type": "code",
   "execution_count": null,
   "metadata": {},
   "outputs": [],
   "source": [
    "AX_score, BY_score, CZ_score = 1, 2, 3\n",
    "draw_score, win_score = 3, 6\n",
    "\n",
    "\n",
    "def match(him, me):\n",
    "    if him == 'A':\n",
    "        if me == 'X':\n",
    "            return draw_score\n",
    "        elif me == 'Y':\n",
    "            return win_score\n",
    "        else:\n",
    "            return 0\n",
    "    elif him == 'B':\n",
    "        if me == 'X':\n",
    "            return 0\n",
    "        elif me == 'Y':\n",
    "            return draw_score\n",
    "        else:\n",
    "            return win_score\n",
    "    elif him == 'C':\n",
    "        if me == 'X':\n",
    "            return win_score\n",
    "        elif me == 'Y':\n",
    "            return 0\n",
    "        else:\n",
    "            return draw_score\n",
    "\n",
    "\n",
    "def sign_score(me):\n",
    "    if me == 'X':\n",
    "        return AX_score\n",
    "    elif me == 'Y':\n",
    "        return BY_score\n",
    "    elif me == 'Z':\n",
    "        return CZ_score\n",
    "\n",
    "\n",
    "def total_score(him, me):\n",
    "    return match(him, me) + sign_score(me)\n"
   ]
  },
  {
   "cell_type": "markdown",
   "metadata": {},
   "source": [
    "### Part 1"
   ]
  },
  {
   "cell_type": "code",
   "execution_count": null,
   "metadata": {},
   "outputs": [],
   "source": [
    "fname = 'input/2.txt'\n",
    "file = open(fname, 'r')\n",
    "lines = file.readlines()\n"
   ]
  },
  {
   "cell_type": "code",
   "execution_count": null,
   "metadata": {},
   "outputs": [],
   "source": [
    "S = 0\n",
    "for line in lines:\n",
    "    line.strip('\\n')\n",
    "    line.split('  ')\n",
    "\n",
    "    S += total_score(line[0], line[2])\n",
    "\n",
    "print(S)\n"
   ]
  },
  {
   "cell_type": "markdown",
   "metadata": {},
   "source": [
    "### Part 2"
   ]
  },
  {
   "cell_type": "code",
   "execution_count": null,
   "metadata": {},
   "outputs": [],
   "source": [
    "def match2(him, me):\n",
    "    if him == 'A':\n",
    "        if me == 'Z':\n",
    "            return win_score + BY_score\n",
    "        elif me == 'Y':\n",
    "            return draw_score + AX_score\n",
    "        else:\n",
    "            return CZ_score\n",
    "    elif him == 'B':\n",
    "        if me == 'Z':\n",
    "            return win_score + CZ_score\n",
    "        elif me == 'Y':\n",
    "            return draw_score + BY_score\n",
    "        else:\n",
    "            return AX_score\n",
    "    elif him == 'C':\n",
    "        if me == 'Z':\n",
    "            return win_score + AX_score\n",
    "        elif me == 'Y':\n",
    "            return draw_score + CZ_score\n",
    "        else:\n",
    "            return BY_score\n"
   ]
  },
  {
   "cell_type": "code",
   "execution_count": null,
   "metadata": {},
   "outputs": [],
   "source": [
    "S = 0\n",
    "for line in lines:\n",
    "    line.strip('\\n')\n",
    "    line.split('  ')\n",
    "\n",
    "    S += match2(line[0], line[2])\n",
    "\n",
    "print(S)\n"
   ]
  },
  {
   "cell_type": "markdown",
   "metadata": {},
   "source": [
    "## Jour 3"
   ]
  },
  {
   "cell_type": "markdown",
   "metadata": {},
   "source": [
    "### Part 1"
   ]
  },
  {
   "cell_type": "code",
   "execution_count": null,
   "metadata": {},
   "outputs": [],
   "source": [
    "\n",
    "with open('input/3.txt', 'r') as file:\n",
    "    lines = file.readlines()\n",
    "    S = 0\n",
    "    for line in lines:\n",
    "        bag = [ord(c) - c.isupper()*(ord('A')-27) - (1-c.isupper())\n",
    "               * (ord('a')-1) for c in line.strip()]\n",
    "        N = len(line)\n",
    "        part1 = bag[0:int(N/2)]\n",
    "        part2 = bag[int(N/2):N]\n",
    "        finish = False\n",
    "        for n in part1:\n",
    "            for m in part2:\n",
    "                if n == m:\n",
    "                    S += n\n",
    "                    finish = True\n",
    "                    break\n",
    "            if finish:\n",
    "                break\n",
    "print(S)\n"
   ]
  },
  {
   "cell_type": "markdown",
   "metadata": {},
   "source": [
    "### Part 2"
   ]
  },
  {
   "cell_type": "code",
   "execution_count": null,
   "metadata": {},
   "outputs": [],
   "source": [
    "\n",
    "with open('input/3.txt', 'r') as file:\n",
    "    lines = file.readlines()\n",
    "    S = 0\n",
    "    for k in range(int(len(lines)/3)):\n",
    "        bag1 = [ord(c) - c.isupper()*(ord('A')-27) - (1-c.isupper())\n",
    "                * (ord('a')-1) for c in lines[3*k].strip()]\n",
    "        bag2 = [ord(c) - c.isupper()*(ord('A')-27) - (1-c.isupper())\n",
    "                * (ord('a')-1) for c in lines[3*k+1].strip()]\n",
    "        bag3 = [ord(c) - c.isupper()*(ord('A')-27) - (1-c.isupper())\n",
    "                * (ord('a')-1) for c in lines[3*k+2].strip()]\n",
    "        finish = False\n",
    "        for n in bag1:\n",
    "            for m in bag2:\n",
    "                for p in bag3:\n",
    "                    if n == m and m == p:\n",
    "                        S += n\n",
    "                        finish = True\n",
    "                        break\n",
    "                if finish:\n",
    "                    break\n",
    "            if finish:\n",
    "                break\n",
    "\n",
    "print(S)\n"
   ]
  },
  {
   "cell_type": "markdown",
   "metadata": {},
   "source": [
    "## Jour 4"
   ]
  },
  {
   "cell_type": "markdown",
   "metadata": {},
   "source": [
    "### Part 1"
   ]
  },
  {
   "cell_type": "code",
   "execution_count": null,
   "metadata": {},
   "outputs": [],
   "source": [
    "with open('input/4.txt', 'r') as file:\n",
    "    lines = file.readlines()\n",
    "    S = 0\n",
    "    for line in lines:\n",
    "        s1, s2 = np.zeros((100,1)), np.zeros((100,1))\n",
    "        elf1, elf2 = line.strip().split(',')\n",
    "        elf1, elf2 = list(map(int,elf1.split('-'))), list(map(int,elf2.split('-')))\n",
    "        s1[elf1[0]:elf1[1]+1]=1\n",
    "        s2[elf2[0]:elf2[1]+1]=1\n",
    "        S += (sum(s1*s2) == min(elf1[1]-elf1[0]+1,elf2[1]-elf2[0]+1))\n",
    "    print(S[0])\n"
   ]
  },
  {
   "cell_type": "markdown",
   "metadata": {},
   "source": [
    "### Part 2"
   ]
  },
  {
   "cell_type": "code",
   "execution_count": null,
   "metadata": {},
   "outputs": [],
   "source": [
    "with open('input/4.txt', 'r') as file:\n",
    "    lines = file.readlines()\n",
    "    S = 0\n",
    "    for line in lines:\n",
    "        s1, s2 = np.zeros((100,1)), np.zeros((100,1))\n",
    "        elf1, elf2 = line.strip().split(',')\n",
    "        elf1, elf2 = list(map(int,elf1.split('-'))), list(map(int,elf2.split('-')))\n",
    "        s1[elf1[0]:elf1[1]+1]=1\n",
    "        s2[elf2[0]:elf2[1]+1]=1\n",
    "        S += sum(s1*s2) >= 1 \n",
    "    print(S[0])"
   ]
  },
  {
   "cell_type": "markdown",
   "metadata": {},
   "source": [
    "## Jour 5"
   ]
  },
  {
   "cell_type": "markdown",
   "metadata": {},
   "source": [
    "### Part 1"
   ]
  },
  {
   "cell_type": "code",
   "execution_count": null,
   "metadata": {},
   "outputs": [],
   "source": [
    "with open('input/5.txt','r') as file:\n",
    "    line = file.readline()\n",
    "    N_stack = int(len(line)/4)\n",
    "    stacks = [[] for i in range(N_stack)]\n",
    "    while line[1]!='1':\n",
    "        for i in range(N_stack):\n",
    "            a = line[4*i+1].strip()\n",
    "            if a!= '': stacks[i].append(a)\n",
    "        line = file.readline()\n",
    "    stacks = [list(reversed(L)) for L in stacks]\n",
    "\n",
    "    line = file.readline()\n",
    "    eof = False\n",
    "    while not eof:\n",
    "        line = file.readline()\n",
    "        if line == '':\n",
    "            eof = True\n",
    "        else:\n",
    "            line = line.replace('move','')\n",
    "            line = line.replace('from',',')\n",
    "            line = line.replace('to',',')\n",
    "            line = line.strip().split(',')\n",
    "            amount = int(line[0].strip())\n",
    "            s = int(line[1].strip()) - 1\n",
    "            e = int(line[2].strip()) - 1\n",
    "            for i in range(amount):\n",
    "                a = stacks[s].pop()\n",
    "                stacks[e].append(a)\n",
    "\n",
    "    print([L[-1] for L in stacks])"
   ]
  },
  {
   "cell_type": "markdown",
   "metadata": {},
   "source": [
    "### Part 2"
   ]
  },
  {
   "cell_type": "code",
   "execution_count": null,
   "metadata": {},
   "outputs": [],
   "source": [
    "with open('input/5.txt','r') as file:\n",
    "    line = file.readline()\n",
    "    N_stack = int(len(line)/4)\n",
    "    stacks = [[] for i in range(N_stack)]\n",
    "    while line[1]!='1':\n",
    "        for i in range(N_stack):\n",
    "            a = line[4*i+1].strip()\n",
    "            if a!= '': stacks[i].append(a)\n",
    "        line = file.readline()\n",
    "    stacks = [list(reversed(L)) for L in stacks]\n",
    "\n",
    "    line = file.readline()\n",
    "    eof = False\n",
    "    while not eof:\n",
    "        line = file.readline()\n",
    "        if line == '':\n",
    "            eof = True\n",
    "        else:\n",
    "            line = line.replace('move','')\n",
    "            line = line.replace('from',',')\n",
    "            line = line.replace('to',',')\n",
    "            line = line.strip().split(',')\n",
    "            amount = int(line[0].strip())\n",
    "            s = int(line[1].strip()) - 1\n",
    "            e = int(line[2].strip()) - 1\n",
    "            stacks[e] = stacks[e]+stacks[s][-amount:]\n",
    "            stacks[s] = stacks[s][0:-amount]\n",
    "\n",
    "    print([L[-1] for L in stacks])"
   ]
  },
  {
   "cell_type": "markdown",
   "metadata": {},
   "source": [
    "## Jour 6"
   ]
  },
  {
   "cell_type": "markdown",
   "metadata": {},
   "source": [
    "### Part 1"
   ]
  },
  {
   "cell_type": "code",
   "execution_count": null,
   "metadata": {},
   "outputs": [],
   "source": [
    "def alldiff(L, n):\n",
    "    exp = [L[0]]\n",
    "    for l in L[1::]:\n",
    "        if not l in exp:\n",
    "            exp.append(l)\n",
    "    return len(exp) == n\n",
    "\n",
    "\n",
    "with open('input/6.txt') as file:\n",
    "    n = 4\n",
    "    line = file.readline()\n",
    "    L = line[0:n]\n",
    "    k = 4\n",
    "    while not alldiff(L, n):\n",
    "        L = L[1:n]+line[k]\n",
    "        k += 1\n",
    "    print(k)\n"
   ]
  },
  {
   "cell_type": "markdown",
   "metadata": {},
   "source": [
    "### Part 2"
   ]
  },
  {
   "cell_type": "code",
   "execution_count": null,
   "metadata": {},
   "outputs": [],
   "source": [
    "with open('input/6.txt') as file:\n",
    "    n = 14\n",
    "    line = file.readline()\n",
    "    L = line[0:n]\n",
    "    k = n\n",
    "    while not alldiff(L, n):\n",
    "        L = L[1:n]+line[k]\n",
    "        k += 1\n",
    "    print(k)\n"
   ]
  },
  {
   "cell_type": "markdown",
   "metadata": {},
   "source": [
    "## Jour 7"
   ]
  },
  {
   "cell_type": "markdown",
   "metadata": {},
   "source": [
    "### Part 1\n"
   ]
  },
  {
   "cell_type": "code",
   "execution_count": 1,
   "metadata": {},
   "outputs": [
    {
     "name": "stdout",
     "output_type": "stream",
     "text": [
      "1642503\n",
      "{'//': ['///fts', '///jnwr', '///lrvl', '///nzgprvw', '///snwqjgj', '///zddrb'], '///fts': ['///fts/dlqtffw', '///fts/rbfmmjvd'], '///fts/dlqtffw': [], '///fts/rbfmmjvd': [], '///jnwr': ['///jnwr/wbv', '///jnwr/zzbvdcf'], '///jnwr/wbv': ['///jnwr/wbv/nmdwbnnr'], '///jnwr/wbv/nmdwbnnr': [], '///jnwr/zzbvdcf': [], '///lrvl': ['///lrvl/bqqltcg', '///lrvl/pwc', '///lrvl/rjl', '///lrvl/rzvqvv', '///lrvl/slzdbm', '///lrvl/tcbjmq', '///lrvl/zhbpqlnd'], '///lrvl/bqqltcg': ['///lrvl/bqqltcg/dlbjblbf', '///lrvl/bqqltcg/fdlw', '///lrvl/bqqltcg/jnwr', '///lrvl/bqqltcg/slzdbm', '///lrvl/bqqltcg/zcgrgff'], '///lrvl/bqqltcg/dlbjblbf': [], '///lrvl/bqqltcg/fdlw': ['///lrvl/bqqltcg/fdlw/hlvpfw'], '///lrvl/bqqltcg/fdlw/hlvpfw': ['///lrvl/bqqltcg/fdlw/hlvpfw/dhwq'], '///lrvl/bqqltcg/fdlw/hlvpfw/dhwq': [], '///lrvl/bqqltcg/jnwr': [], '///lrvl/bqqltcg/slzdbm': [], '///lrvl/bqqltcg/zcgrgff': ['///lrvl/bqqltcg/zcgrgff/ztrslh'], '///lrvl/bqqltcg/zcgrgff/ztrslh': ['///lrvl/bqqltcg/zcgrgff/ztrslh/bhzn', '///lrvl/bqqltcg/zcgrgff/ztrslh/slzdbm', '///lrvl/bqqltcg/zcgrgff/ztrslh/szrth', '///lrvl/bqqltcg/zcgrgff/ztrslh/zcp'], '///lrvl/bqqltcg/zcgrgff/ztrslh/bhzn': [], '///lrvl/bqqltcg/zcgrgff/ztrslh/slzdbm': [], '///lrvl/bqqltcg/zcgrgff/ztrslh/szrth': ['///lrvl/bqqltcg/zcgrgff/ztrslh/szrth/hpbbsq', '///lrvl/bqqltcg/zcgrgff/ztrslh/szrth/vlwlsdjp', '///lrvl/bqqltcg/zcgrgff/ztrslh/szrth/zcgrgff'], '///lrvl/bqqltcg/zcgrgff/ztrslh/szrth/hpbbsq': [], '///lrvl/bqqltcg/zcgrgff/ztrslh/szrth/vlwlsdjp': [], '///lrvl/bqqltcg/zcgrgff/ztrslh/szrth/zcgrgff': ['///lrvl/bqqltcg/zcgrgff/ztrslh/szrth/zcgrgff/zcgrgff'], '///lrvl/bqqltcg/zcgrgff/ztrslh/szrth/zcgrgff/zcgrgff': [], '///lrvl/bqqltcg/zcgrgff/ztrslh/zcp': ['///lrvl/bqqltcg/zcgrgff/ztrslh/zcp/qdjtmwrr', '///lrvl/bqqltcg/zcgrgff/ztrslh/zcp/wpdjttm'], '///lrvl/bqqltcg/zcgrgff/ztrslh/zcp/qdjtmwrr': [], '///lrvl/bqqltcg/zcgrgff/ztrslh/zcp/wpdjttm': [], '///lrvl/pwc': [], '///lrvl/rjl': [], '///lrvl/rzvqvv': [], '///lrvl/slzdbm': ['///lrvl/slzdbm/hlvpfw', '///lrvl/slzdbm/ljpmphn'], '///lrvl/slzdbm/hlvpfw': ['///lrvl/slzdbm/hlvpfw/mhvmszgh'], '///lrvl/slzdbm/hlvpfw/mhvmszgh': ['///lrvl/slzdbm/hlvpfw/mhvmszgh/tftstdp'], '///lrvl/slzdbm/hlvpfw/mhvmszgh/tftstdp': [], '///lrvl/slzdbm/ljpmphn': [], '///lrvl/tcbjmq': [], '///lrvl/zhbpqlnd': ['///lrvl/zhbpqlnd/clnqtjz', '///lrvl/zhbpqlnd/fdsqmnn', '///lrvl/zhbpqlnd/fwdt', '///lrvl/zhbpqlnd/nljb', '///lrvl/zhbpqlnd/npmsdrgp', '///lrvl/zhbpqlnd/zggqfj'], '///lrvl/zhbpqlnd/clnqtjz': ['///lrvl/zhbpqlnd/clnqtjz/mzsfcvgv', '///lrvl/zhbpqlnd/clnqtjz/rrn'], '///lrvl/zhbpqlnd/clnqtjz/mzsfcvgv': ['///lrvl/zhbpqlnd/clnqtjz/mzsfcvgv/vnwqstw'], '///lrvl/zhbpqlnd/clnqtjz/mzsfcvgv/vnwqstw': [], '///lrvl/zhbpqlnd/clnqtjz/rrn': ['///lrvl/zhbpqlnd/clnqtjz/rrn/hnr', '///lrvl/zhbpqlnd/clnqtjz/rrn/rdmgtf', '///lrvl/zhbpqlnd/clnqtjz/rrn/rgrwp'], '///lrvl/zhbpqlnd/clnqtjz/rrn/hnr': ['///lrvl/zhbpqlnd/clnqtjz/rrn/hnr/gljrlhjm'], '///lrvl/zhbpqlnd/clnqtjz/rrn/hnr/gljrlhjm': ['///lrvl/zhbpqlnd/clnqtjz/rrn/hnr/gljrlhjm/wjwqrnj'], '///lrvl/zhbpqlnd/clnqtjz/rrn/hnr/gljrlhjm/wjwqrnj': [], '///lrvl/zhbpqlnd/clnqtjz/rrn/rdmgtf': ['///lrvl/zhbpqlnd/clnqtjz/rrn/rdmgtf/lzfntb', '///lrvl/zhbpqlnd/clnqtjz/rrn/rdmgtf/mjfwsmgd', '///lrvl/zhbpqlnd/clnqtjz/rrn/rdmgtf/tqh'], '///lrvl/zhbpqlnd/clnqtjz/rrn/rdmgtf/lzfntb': ['///lrvl/zhbpqlnd/clnqtjz/rrn/rdmgtf/lzfntb/gwnpsvw', '///lrvl/zhbpqlnd/clnqtjz/rrn/rdmgtf/lzfntb/rsgwzhp'], '///lrvl/zhbpqlnd/clnqtjz/rrn/rdmgtf/lzfntb/gwnpsvw': ['///lrvl/zhbpqlnd/clnqtjz/rrn/rdmgtf/lzfntb/gwnpsvw/lqnz'], '///lrvl/zhbpqlnd/clnqtjz/rrn/rdmgtf/lzfntb/gwnpsvw/lqnz': [], '///lrvl/zhbpqlnd/clnqtjz/rrn/rdmgtf/lzfntb/rsgwzhp': ['///lrvl/zhbpqlnd/clnqtjz/rrn/rdmgtf/lzfntb/rsgwzhp/hhz'], '///lrvl/zhbpqlnd/clnqtjz/rrn/rdmgtf/lzfntb/rsgwzhp/hhz': [], '///lrvl/zhbpqlnd/clnqtjz/rrn/rdmgtf/mjfwsmgd': [], '///lrvl/zhbpqlnd/clnqtjz/rrn/rdmgtf/tqh': ['///lrvl/zhbpqlnd/clnqtjz/rrn/rdmgtf/tqh/lpdcdr', '///lrvl/zhbpqlnd/clnqtjz/rrn/rdmgtf/tqh/vhfr'], '///lrvl/zhbpqlnd/clnqtjz/rrn/rdmgtf/tqh/lpdcdr': [], '///lrvl/zhbpqlnd/clnqtjz/rrn/rdmgtf/tqh/vhfr': ['///lrvl/zhbpqlnd/clnqtjz/rrn/rdmgtf/tqh/vhfr/stmvj'], '///lrvl/zhbpqlnd/clnqtjz/rrn/rdmgtf/tqh/vhfr/stmvj': [], '///lrvl/zhbpqlnd/clnqtjz/rrn/rgrwp': ['///lrvl/zhbpqlnd/clnqtjz/rrn/rgrwp/dhwtfld', '///lrvl/zhbpqlnd/clnqtjz/rrn/rgrwp/jnwr', '///lrvl/zhbpqlnd/clnqtjz/rrn/rgrwp/npr', '///lrvl/zhbpqlnd/clnqtjz/rrn/rgrwp/sdsppq'], '///lrvl/zhbpqlnd/clnqtjz/rrn/rgrwp/dhwtfld': [], '///lrvl/zhbpqlnd/clnqtjz/rrn/rgrwp/jnwr': [], '///lrvl/zhbpqlnd/clnqtjz/rrn/rgrwp/npr': ['///lrvl/zhbpqlnd/clnqtjz/rrn/rgrwp/npr/nrbjzvgq', '///lrvl/zhbpqlnd/clnqtjz/rrn/rgrwp/npr/znbwnh'], '///lrvl/zhbpqlnd/clnqtjz/rrn/rgrwp/npr/nrbjzvgq': ['///lrvl/zhbpqlnd/clnqtjz/rrn/rgrwp/npr/nrbjzvgq/zcgrgff'], '///lrvl/zhbpqlnd/clnqtjz/rrn/rgrwp/npr/nrbjzvgq/zcgrgff': [], '///lrvl/zhbpqlnd/clnqtjz/rrn/rgrwp/npr/znbwnh': [], '///lrvl/zhbpqlnd/clnqtjz/rrn/rgrwp/sdsppq': ['///lrvl/zhbpqlnd/clnqtjz/rrn/rgrwp/sdsppq/jnwr', '///lrvl/zhbpqlnd/clnqtjz/rrn/rgrwp/sdsppq/njtrhrfm', '///lrvl/zhbpqlnd/clnqtjz/rrn/rgrwp/sdsppq/tvq', '///lrvl/zhbpqlnd/clnqtjz/rrn/rgrwp/sdsppq/wshgn'], '///lrvl/zhbpqlnd/clnqtjz/rrn/rgrwp/sdsppq/jnwr': ['///lrvl/zhbpqlnd/clnqtjz/rrn/rgrwp/sdsppq/jnwr/gjt', '///lrvl/zhbpqlnd/clnqtjz/rrn/rgrwp/sdsppq/jnwr/hlvpfw', '///lrvl/zhbpqlnd/clnqtjz/rrn/rgrwp/sdsppq/jnwr/nbsdvpnj', '///lrvl/zhbpqlnd/clnqtjz/rrn/rgrwp/sdsppq/jnwr/zcgrgff'], '///lrvl/zhbpqlnd/clnqtjz/rrn/rgrwp/sdsppq/jnwr/gjt': [], '///lrvl/zhbpqlnd/clnqtjz/rrn/rgrwp/sdsppq/jnwr/hlvpfw': [], '///lrvl/zhbpqlnd/clnqtjz/rrn/rgrwp/sdsppq/jnwr/nbsdvpnj': [], '///lrvl/zhbpqlnd/clnqtjz/rrn/rgrwp/sdsppq/jnwr/zcgrgff': [], '///lrvl/zhbpqlnd/clnqtjz/rrn/rgrwp/sdsppq/njtrhrfm': ['///lrvl/zhbpqlnd/clnqtjz/rrn/rgrwp/sdsppq/njtrhrfm/dqpjdztt'], '///lrvl/zhbpqlnd/clnqtjz/rrn/rgrwp/sdsppq/njtrhrfm/dqpjdztt': [], '///lrvl/zhbpqlnd/clnqtjz/rrn/rgrwp/sdsppq/tvq': [], '///lrvl/zhbpqlnd/clnqtjz/rrn/rgrwp/sdsppq/wshgn': ['///lrvl/zhbpqlnd/clnqtjz/rrn/rgrwp/sdsppq/wshgn/ntrlll'], '///lrvl/zhbpqlnd/clnqtjz/rrn/rgrwp/sdsppq/wshgn/ntrlll': [], '///lrvl/zhbpqlnd/fdsqmnn': ['///lrvl/zhbpqlnd/fdsqmnn/dfl', '///lrvl/zhbpqlnd/fdsqmnn/hqffnmq', '///lrvl/zhbpqlnd/fdsqmnn/ztc'], '///lrvl/zhbpqlnd/fdsqmnn/dfl': [], '///lrvl/zhbpqlnd/fdsqmnn/hqffnmq': [], '///lrvl/zhbpqlnd/fdsqmnn/ztc': [], '///lrvl/zhbpqlnd/fwdt': ['///lrvl/zhbpqlnd/fwdt/cdcc', '///lrvl/zhbpqlnd/fwdt/jldlzttm', '///lrvl/zhbpqlnd/fwdt/sws'], '///lrvl/zhbpqlnd/fwdt/cdcc': ['///lrvl/zhbpqlnd/fwdt/cdcc/cwpfczr', '///lrvl/zhbpqlnd/fwdt/cdcc/lsrgfml'], '///lrvl/zhbpqlnd/fwdt/cdcc/cwpfczr': [], '///lrvl/zhbpqlnd/fwdt/cdcc/lsrgfml': [], '///lrvl/zhbpqlnd/fwdt/jldlzttm': [], '///lrvl/zhbpqlnd/fwdt/sws': ['///lrvl/zhbpqlnd/fwdt/sws/hlvpfw'], '///lrvl/zhbpqlnd/fwdt/sws/hlvpfw': [], '///lrvl/zhbpqlnd/nljb': [], '///lrvl/zhbpqlnd/npmsdrgp': ['///lrvl/zhbpqlnd/npmsdrgp/dgdl', '///lrvl/zhbpqlnd/npmsdrgp/jnwr'], '///lrvl/zhbpqlnd/npmsdrgp/dgdl': [], '///lrvl/zhbpqlnd/npmsdrgp/jnwr': ['///lrvl/zhbpqlnd/npmsdrgp/jnwr/cvw', '///lrvl/zhbpqlnd/npmsdrgp/jnwr/ncqflwrb', '///lrvl/zhbpqlnd/npmsdrgp/jnwr/wclwg', '///lrvl/zhbpqlnd/npmsdrgp/jnwr/wtcfswt'], '///lrvl/zhbpqlnd/npmsdrgp/jnwr/cvw': [], '///lrvl/zhbpqlnd/npmsdrgp/jnwr/ncqflwrb': [], '///lrvl/zhbpqlnd/npmsdrgp/jnwr/wclwg': [], '///lrvl/zhbpqlnd/npmsdrgp/jnwr/wtcfswt': [], '///lrvl/zhbpqlnd/zggqfj': ['///lrvl/zhbpqlnd/zggqfj/gpnfpv', '///lrvl/zhbpqlnd/zggqfj/gzfsnbv', '///lrvl/zhbpqlnd/zggqfj/msrz'], '///lrvl/zhbpqlnd/zggqfj/gpnfpv': ['///lrvl/zhbpqlnd/zggqfj/gpnfpv/hlvpfw'], '///lrvl/zhbpqlnd/zggqfj/gpnfpv/hlvpfw': [], '///lrvl/zhbpqlnd/zggqfj/gzfsnbv': ['///lrvl/zhbpqlnd/zggqfj/gzfsnbv/sdgwjtf'], '///lrvl/zhbpqlnd/zggqfj/gzfsnbv/sdgwjtf': [], '///lrvl/zhbpqlnd/zggqfj/msrz': ['///lrvl/zhbpqlnd/zggqfj/msrz/fzl'], '///lrvl/zhbpqlnd/zggqfj/msrz/fzl': [], '///nzgprvw': ['///nzgprvw/hgfdbf', '///nzgprvw/vfztvnjm', '///nzgprvw/zgdsgh'], '///nzgprvw/hgfdbf': [], '///nzgprvw/vfztvnjm': [], '///nzgprvw/zgdsgh': ['///nzgprvw/zgdsgh/hlvpfw', '///nzgprvw/zgdsgh/sdllphqd', '///nzgprvw/zgdsgh/zcgrgff'], '///nzgprvw/zgdsgh/hlvpfw': [], '///nzgprvw/zgdsgh/sdllphqd': [], '///nzgprvw/zgdsgh/zcgrgff': [], '///snwqjgj': ['///snwqjgj/slzdbm', '///snwqjgj/zcgrgff', '///snwqjgj/zldscsc'], '///snwqjgj/slzdbm': [], '///snwqjgj/zcgrgff': ['///snwqjgj/zcgrgff/rrfhvjf', '///snwqjgj/zcgrgff/zcgrgff'], '///snwqjgj/zcgrgff/rrfhvjf': [], '///snwqjgj/zcgrgff/zcgrgff': ['///snwqjgj/zcgrgff/zcgrgff/zcgrgff'], '///snwqjgj/zcgrgff/zcgrgff/zcgrgff': [], '///snwqjgj/zldscsc': ['///snwqjgj/zldscsc/fmzvccvg', '///snwqjgj/zldscsc/prdfldrf', '///snwqjgj/zldscsc/sgpdqw', '///snwqjgj/zldscsc/wjdpws'], '///snwqjgj/zldscsc/fmzvccvg': ['///snwqjgj/zldscsc/fmzvccvg/brrlg', '///snwqjgj/zldscsc/fmzvccvg/crm', '///snwqjgj/zldscsc/fmzvccvg/mzsfcvgv'], '///snwqjgj/zldscsc/fmzvccvg/brrlg': [], '///snwqjgj/zldscsc/fmzvccvg/crm': [], '///snwqjgj/zldscsc/fmzvccvg/mzsfcvgv': [], '///snwqjgj/zldscsc/prdfldrf': [], '///snwqjgj/zldscsc/sgpdqw': [], '///snwqjgj/zldscsc/wjdpws': ['///snwqjgj/zldscsc/wjdpws/hlvpfw'], '///snwqjgj/zldscsc/wjdpws/hlvpfw': [], '///zddrb': ['///zddrb/pgbgpn', '///zddrb/slzdbm', '///zddrb/zdhcp'], '///zddrb/pgbgpn': ['///zddrb/pgbgpn/jpmvrvt', '///zddrb/pgbgpn/mzsfcvgv', '///zddrb/pgbgpn/vvmwgngv'], '///zddrb/pgbgpn/jpmvrvt': [], '///zddrb/pgbgpn/mzsfcvgv': ['///zddrb/pgbgpn/mzsfcvgv/slzdbm'], '///zddrb/pgbgpn/mzsfcvgv/slzdbm': ['///zddrb/pgbgpn/mzsfcvgv/slzdbm/jnwr'], '///zddrb/pgbgpn/mzsfcvgv/slzdbm/jnwr': [], '///zddrb/pgbgpn/vvmwgngv': ['///zddrb/pgbgpn/vvmwgngv/bqc', '///zddrb/pgbgpn/vvmwgngv/mzsfcvgv', '///zddrb/pgbgpn/vvmwgngv/qgj', '///zddrb/pgbgpn/vvmwgngv/wfjzls'], '///zddrb/pgbgpn/vvmwgngv/bqc': ['///zddrb/pgbgpn/vvmwgngv/bqc/lmnvtg', '///zddrb/pgbgpn/vvmwgngv/bqc/mzsfcvgv', '///zddrb/pgbgpn/vvmwgngv/bqc/twzq'], '///zddrb/pgbgpn/vvmwgngv/bqc/lmnvtg': ['///zddrb/pgbgpn/vvmwgngv/bqc/lmnvtg/dzdd', '///zddrb/pgbgpn/vvmwgngv/bqc/lmnvtg/rnlctfm', '///zddrb/pgbgpn/vvmwgngv/bqc/lmnvtg/slzdbm'], '///zddrb/pgbgpn/vvmwgngv/bqc/lmnvtg/dzdd': ['///zddrb/pgbgpn/vvmwgngv/bqc/lmnvtg/dzdd/jnwr'], '///zddrb/pgbgpn/vvmwgngv/bqc/lmnvtg/dzdd/jnwr': [], '///zddrb/pgbgpn/vvmwgngv/bqc/lmnvtg/rnlctfm': [], '///zddrb/pgbgpn/vvmwgngv/bqc/lmnvtg/slzdbm': [], '///zddrb/pgbgpn/vvmwgngv/bqc/mzsfcvgv': ['///zddrb/pgbgpn/vvmwgngv/bqc/mzsfcvgv/nsvn', '///zddrb/pgbgpn/vvmwgngv/bqc/mzsfcvgv/plj', '///zddrb/pgbgpn/vvmwgngv/bqc/mzsfcvgv/tvmv'], '///zddrb/pgbgpn/vvmwgngv/bqc/mzsfcvgv/nsvn': ['///zddrb/pgbgpn/vvmwgngv/bqc/mzsfcvgv/nsvn/bcmd', '///zddrb/pgbgpn/vvmwgngv/bqc/mzsfcvgv/nsvn/jcjsp', '///zddrb/pgbgpn/vvmwgngv/bqc/mzsfcvgv/nsvn/jnwr'], '///zddrb/pgbgpn/vvmwgngv/bqc/mzsfcvgv/nsvn/bcmd': [], '///zddrb/pgbgpn/vvmwgngv/bqc/mzsfcvgv/nsvn/jcjsp': [], '///zddrb/pgbgpn/vvmwgngv/bqc/mzsfcvgv/nsvn/jnwr': [], '///zddrb/pgbgpn/vvmwgngv/bqc/mzsfcvgv/plj': [], '///zddrb/pgbgpn/vvmwgngv/bqc/mzsfcvgv/tvmv': [], '///zddrb/pgbgpn/vvmwgngv/bqc/twzq': ['///zddrb/pgbgpn/vvmwgngv/bqc/twzq/hwgndwpj'], '///zddrb/pgbgpn/vvmwgngv/bqc/twzq/hwgndwpj': ['///zddrb/pgbgpn/vvmwgngv/bqc/twzq/hwgndwpj/srdzqqf'], '///zddrb/pgbgpn/vvmwgngv/bqc/twzq/hwgndwpj/srdzqqf': [], '///zddrb/pgbgpn/vvmwgngv/mzsfcvgv': ['///zddrb/pgbgpn/vvmwgngv/mzsfcvgv/hlvpfw', '///zddrb/pgbgpn/vvmwgngv/mzsfcvgv/vbdw'], '///zddrb/pgbgpn/vvmwgngv/mzsfcvgv/hlvpfw': [], '///zddrb/pgbgpn/vvmwgngv/mzsfcvgv/vbdw': ['///zddrb/pgbgpn/vvmwgngv/mzsfcvgv/vbdw/csw'], '///zddrb/pgbgpn/vvmwgngv/mzsfcvgv/vbdw/csw': [], '///zddrb/pgbgpn/vvmwgngv/qgj': ['///zddrb/pgbgpn/vvmwgngv/qgj/lmp', '///zddrb/pgbgpn/vvmwgngv/qgj/slzdbm', '///zddrb/pgbgpn/vvmwgngv/qgj/tzth'], '///zddrb/pgbgpn/vvmwgngv/qgj/lmp': ['///zddrb/pgbgpn/vvmwgngv/qgj/lmp/jnwr'], '///zddrb/pgbgpn/vvmwgngv/qgj/lmp/jnwr': [], '///zddrb/pgbgpn/vvmwgngv/qgj/slzdbm': ['///zddrb/pgbgpn/vvmwgngv/qgj/slzdbm/jnwr', '///zddrb/pgbgpn/vvmwgngv/qgj/slzdbm/slzdbm'], '///zddrb/pgbgpn/vvmwgngv/qgj/slzdbm/jnwr': [], '///zddrb/pgbgpn/vvmwgngv/qgj/slzdbm/slzdbm': [], '///zddrb/pgbgpn/vvmwgngv/qgj/tzth': [], '///zddrb/pgbgpn/vvmwgngv/wfjzls': ['///zddrb/pgbgpn/vvmwgngv/wfjzls/qvmdt'], '///zddrb/pgbgpn/vvmwgngv/wfjzls/qvmdt': [], '///zddrb/slzdbm': ['///zddrb/slzdbm/hsvbbbp', '///zddrb/slzdbm/jdtrdgqs', '///zddrb/slzdbm/lrldsqcr', '///zddrb/slzdbm/nzcbqzdz'], '///zddrb/slzdbm/hsvbbbp': ['///zddrb/slzdbm/hsvbbbp/vpwf', '///zddrb/slzdbm/hsvbbbp/zhngz'], '///zddrb/slzdbm/hsvbbbp/vpwf': [], '///zddrb/slzdbm/hsvbbbp/zhngz': [], '///zddrb/slzdbm/jdtrdgqs': [], '///zddrb/slzdbm/lrldsqcr': ['///zddrb/slzdbm/lrldsqcr/brwcprn', '///zddrb/slzdbm/lrldsqcr/hlvpfw', '///zddrb/slzdbm/lrldsqcr/jnwr', '///zddrb/slzdbm/lrldsqcr/slzdbm', '///zddrb/slzdbm/lrldsqcr/wrmr', '///zddrb/slzdbm/lrldsqcr/zjrdgf', '///zddrb/slzdbm/lrldsqcr/zrpqf'], '///zddrb/slzdbm/lrldsqcr/brwcprn': ['///zddrb/slzdbm/lrldsqcr/brwcprn/bmjwts'], '///zddrb/slzdbm/lrldsqcr/brwcprn/bmjwts': [], '///zddrb/slzdbm/lrldsqcr/hlvpfw': [], '///zddrb/slzdbm/lrldsqcr/jnwr': [], '///zddrb/slzdbm/lrldsqcr/slzdbm': [], '///zddrb/slzdbm/lrldsqcr/wrmr': [], '///zddrb/slzdbm/lrldsqcr/zjrdgf': [], '///zddrb/slzdbm/lrldsqcr/zrpqf': [], '///zddrb/slzdbm/nzcbqzdz': ['///zddrb/slzdbm/nzcbqzdz/qwjgb'], '///zddrb/slzdbm/nzcbqzdz/qwjgb': [], '///zddrb/zdhcp': ['///zddrb/zdhcp/hbggp', '///zddrb/zdhcp/mzsfcvgv', '///zddrb/zdhcp/zdsvth'], '///zddrb/zdhcp/hbggp': [], '///zddrb/zdhcp/mzsfcvgv': ['///zddrb/zdhcp/mzsfcvgv/gpz', '///zddrb/zdhcp/mzsfcvgv/slzdbm', '///zddrb/zdhcp/mzsfcvgv/zvjv'], '///zddrb/zdhcp/mzsfcvgv/gpz': [], '///zddrb/zdhcp/mzsfcvgv/slzdbm': ['///zddrb/zdhcp/mzsfcvgv/slzdbm/hlvpfw', '///zddrb/zdhcp/mzsfcvgv/slzdbm/mzsfcvgv', '///zddrb/zdhcp/mzsfcvgv/slzdbm/zdcthssc'], '///zddrb/zdhcp/mzsfcvgv/slzdbm/hlvpfw': [], '///zddrb/zdhcp/mzsfcvgv/slzdbm/mzsfcvgv': ['///zddrb/zdhcp/mzsfcvgv/slzdbm/mzsfcvgv/gnmtggs'], '///zddrb/zdhcp/mzsfcvgv/slzdbm/mzsfcvgv/gnmtggs': [], '///zddrb/zdhcp/mzsfcvgv/slzdbm/zdcthssc': [], '///zddrb/zdhcp/mzsfcvgv/zvjv': ['///zddrb/zdhcp/mzsfcvgv/zvjv/mgcg', '///zddrb/zdhcp/mzsfcvgv/zvjv/nwl', '///zddrb/zdhcp/mzsfcvgv/zvjv/rqznjmt'], '///zddrb/zdhcp/mzsfcvgv/zvjv/mgcg': ['///zddrb/zdhcp/mzsfcvgv/zvjv/mgcg/ngwvm', '///zddrb/zdhcp/mzsfcvgv/zvjv/mgcg/slzdbm', '///zddrb/zdhcp/mzsfcvgv/zvjv/mgcg/smd', '///zddrb/zdhcp/mzsfcvgv/zvjv/mgcg/smr', '///zddrb/zdhcp/mzsfcvgv/zvjv/mgcg/zcgrgff'], '///zddrb/zdhcp/mzsfcvgv/zvjv/mgcg/ngwvm': [], '///zddrb/zdhcp/mzsfcvgv/zvjv/mgcg/slzdbm': [], '///zddrb/zdhcp/mzsfcvgv/zvjv/mgcg/smd': ['///zddrb/zdhcp/mzsfcvgv/zvjv/mgcg/smd/fjd', '///zddrb/zdhcp/mzsfcvgv/zvjv/mgcg/smd/rscdvnwt', '///zddrb/zdhcp/mzsfcvgv/zvjv/mgcg/smd/wbhp'], '///zddrb/zdhcp/mzsfcvgv/zvjv/mgcg/smd/fjd': [], '///zddrb/zdhcp/mzsfcvgv/zvjv/mgcg/smd/rscdvnwt': [], '///zddrb/zdhcp/mzsfcvgv/zvjv/mgcg/smd/wbhp': ['///zddrb/zdhcp/mzsfcvgv/zvjv/mgcg/smd/wbhp/czv'], '///zddrb/zdhcp/mzsfcvgv/zvjv/mgcg/smd/wbhp/czv': [], '///zddrb/zdhcp/mzsfcvgv/zvjv/mgcg/smr': [], '///zddrb/zdhcp/mzsfcvgv/zvjv/mgcg/zcgrgff': ['///zddrb/zdhcp/mzsfcvgv/zvjv/mgcg/zcgrgff/mzsfcvgv'], '///zddrb/zdhcp/mzsfcvgv/zvjv/mgcg/zcgrgff/mzsfcvgv': ['///zddrb/zdhcp/mzsfcvgv/zvjv/mgcg/zcgrgff/mzsfcvgv/jnwr'], '///zddrb/zdhcp/mzsfcvgv/zvjv/mgcg/zcgrgff/mzsfcvgv/jnwr': [], '///zddrb/zdhcp/mzsfcvgv/zvjv/nwl': [], '///zddrb/zdhcp/mzsfcvgv/zvjv/rqznjmt': [], '///zddrb/zdhcp/zdsvth': ['///zddrb/zdhcp/zdsvth/njhjrgmf'], '///zddrb/zdhcp/zdsvth/njhjrgmf': []}\n"
     ]
    }
   ],
   "source": [
    "def path2str(path):\n",
    "    str = ''\n",
    "    for dir in path:\n",
    "        str = str+'/'+dir\n",
    "    return str\n",
    "\n",
    "\n",
    "directories = {}\n",
    "sizes = {}\n",
    "with open('input/7.txt') as file:\n",
    "    lines = file.readlines()\n",
    "    path = []\n",
    "    for line in lines:\n",
    "        line = line.strip().split(' ')\n",
    "        if line[0]=='$':\n",
    "            if line[1] == 'cd':\n",
    "                parent = line[2]\n",
    "                if parent.strip() == '..':\n",
    "                    path.pop()\n",
    "                else : \n",
    "                    path.append(parent)\n",
    "                    if not path2str(path) in directories.keys():\n",
    "                        directories[path2str(path)] = []\n",
    "        else:\n",
    "            strpath = path2str(path) \n",
    "            #children dir\n",
    "            if not strpath in sizes.keys():\n",
    "                sizes[strpath] = 0\n",
    "            if line[0] == 'dir':\n",
    "                directories[strpath].append(path2str(path+[line[1]]))\n",
    "            #file\n",
    "            else:\n",
    "                sizes[strpath] += int(line[0])\n",
    "    \n",
    "    S=0\n",
    "    T = 100000\n",
    "    for dir in directories.keys():\n",
    "        s = 0\n",
    "        for path in directories[dir]:\n",
    "            s += sizes[path]\n",
    "        s+= sizes[dir]\n",
    "        if s<=T:\n",
    "            S+=s \n",
    "\n",
    "    print(S)"
   ]
  },
  {
   "cell_type": "markdown",
   "metadata": {},
   "source": [
    "### Part 2"
   ]
  },
  {
   "cell_type": "code",
   "execution_count": null,
   "metadata": {},
   "outputs": [],
   "source": [
    "def sizetot(dir):\n",
    "    if directories[dir]==[]:\n",
    "        return sizes[dir]\n",
    "    else:\n",
    "        S = sizes[dir]\n",
    "        for child in directories[dir]:\n",
    "            S+= sizetot(child)\n",
    "        return S\n",
    "\n",
    "totSpace = 70000000\n",
    "freeSpace = totSpace\n",
    "reqSpace = 30000000\n",
    "for size in sizes.values():\n",
    "    freeSpace -= size\n",
    "toFree = reqSpace - freeSpace\n",
    "sMin = totSpace\n",
    "for dir in directories.keys():\n",
    "    s = sizetot(dir)\n",
    "    if toFree<= s and s<=sMin:\n",
    "        sMin = s\n",
    "\n",
    "print(sMin)"
   ]
  },
  {
   "cell_type": "markdown",
   "metadata": {},
   "source": [
    "## Jour 8"
   ]
  },
  {
   "cell_type": "markdown",
   "metadata": {},
   "source": [
    "### Part 1"
   ]
  },
  {
   "cell_type": "code",
   "execution_count": null,
   "metadata": {},
   "outputs": [],
   "source": [
    "with open('input/8.txt','r') as file:\n",
    "    lines = file.readlines()\n",
    "    m,n = len(lines), len(lines[0].strip())\n",
    "    M = np.zeros((m,n))\n",
    "    for i,line in enumerate(lines):\n",
    "        for j,c in enumerate(line.strip()):\n",
    "            M[i,j] = int(c)\n",
    "\n",
    "    S = 2*m + 2*n - 4\n",
    "    for i in range(1,m-1):\n",
    "        for j in range(1,n-1):\n",
    "            hij = M[i,j]\n",
    "            u,d,l,r = i-1,i-1,j-1,j+1\n",
    "            U = M[0:i,j]\n",
    "            D = M[i+1:m,j]\n",
    "            L = M[i,0:j]\n",
    "            R = M[i,j+1:n]\n",
    "            if hij>min(max(U),max(D),max(L),max(R)):\n",
    "                S+=1\n",
    "            # hidden = False\n",
    "            # while not hidden:\n",
    "            #     if hij<=min(M[u,j],M[d,j],M[i,l],M[i,r]):\n",
    "            #         hidden = True\n",
    "            #     else:\n",
    "            #         if M[u,j] < hij:\n",
    "            #             u-=1\n",
    "            #         if M[d,j] < hij:\n",
    "            #             d+=1\n",
    "            #         if M[i,l] < hij:\n",
    "            #             l-=1\n",
    "            #         if M[i,r] < hij:\n",
    "            #             r+=1\n",
    "            #         if u<0 or l<0 or d>=m or r>=n:\n",
    "            #             hidden = True\n",
    "            #             S+=1\n",
    "            #             break\n",
    "    print(S)\n",
    "\n"
   ]
  },
  {
   "cell_type": "markdown",
   "metadata": {},
   "source": [
    "### Part 2"
   ]
  },
  {
   "cell_type": "code",
   "execution_count": null,
   "metadata": {},
   "outputs": [],
   "source": [
    "with open('input/8.txt','r') as file:\n",
    "    lines = file.readlines()\n",
    "    m,n = len(lines), len(lines[0].strip())\n",
    "    M = np.zeros((m,n))\n",
    "    for i,line in enumerate(lines):\n",
    "        for j,c in enumerate(line.strip()):\n",
    "            M[i,j] = int(c)\n",
    "\n",
    "    Amax= 0\n",
    "    for i in range(1,m-1):\n",
    "        for j in range(1,n-1):\n",
    "            hij = M[i,j]\n",
    "            u,d,l,r = i-1,i+1,j-1,j+1\n",
    "            U,D,L,R = False,False,False,False\n",
    "            s=0\n",
    "            while s < 4:\n",
    "                if not U:\n",
    "                    if u <=0:\n",
    "                        du = i\n",
    "                        U = True\n",
    "                        s+=1\n",
    "                    elif M[u,j] < hij:\n",
    "                        u-=1\n",
    "                    else:\n",
    "                        du = abs(u-i)\n",
    "                        U = True\n",
    "                        s+=1\n",
    "                if not D:\n",
    "                    if d >=m-1:\n",
    "                        dd = m-i-1\n",
    "                        D = True\n",
    "                        s+=1\n",
    "                    elif M[d,j] < hij:\n",
    "                        d+=1\n",
    "                    else:\n",
    "                        dd = d-i\n",
    "                        D = True\n",
    "                        s+=1\n",
    "                if not L:\n",
    "                    if l<=0:\n",
    "                        dl = j\n",
    "                        L = True\n",
    "                        s+=1\n",
    "                    elif M[i,l] < hij:\n",
    "                        l-=1\n",
    "                    else:\n",
    "                        dl = j-l\n",
    "                        L = True\n",
    "                        s+=1\n",
    "                if not R:\n",
    "                    if r >=n-1:\n",
    "                        dr = n-j-1\n",
    "                        R = True\n",
    "                        s+=1\n",
    "                    elif M[i,r] < hij:\n",
    "                        r+=1\n",
    "                    else:\n",
    "                        dr = r-j\n",
    "                        R = True\n",
    "                        s+=1\n",
    "            Amax = max(Amax,du*dd*dl*dr)\n",
    "                    \n",
    "    print(Amax)\n"
   ]
  },
  {
   "attachments": {},
   "cell_type": "markdown",
   "metadata": {},
   "source": [
    "## Jour 9"
   ]
  },
  {
   "attachments": {},
   "cell_type": "markdown",
   "metadata": {},
   "source": [
    "### Part 1"
   ]
  },
  {
   "cell_type": "code",
   "execution_count": 33,
   "metadata": {},
   "outputs": [
    {
     "name": "stdout",
     "output_type": "stream",
     "text": [
      "6503\n"
     ]
    }
   ],
   "source": [
    "class Head():\n",
    "\n",
    "    def __init__(self, x, y, T):\n",
    "        self.name = 'Knot'\n",
    "        self.r = y\n",
    "        self.c = x\n",
    "        self.tail = T\n",
    "\n",
    "    def move(self, D, l):\n",
    "        for i in range(l):\n",
    "            if D == 'U':\n",
    "                self.r -= 1\n",
    "            if D == 'D':\n",
    "                self.r += 1\n",
    "            if D == 'L':\n",
    "                self.c -= 1\n",
    "            if D == 'R':\n",
    "                self.c += 1\n",
    "            if self.tail.name == 'Tail':\n",
    "                self.tail.moveT(self)\n",
    "            elif self.tail.name == 'Knot':\n",
    "                self.tail.moveK(self)\n",
    "\n",
    "\n",
    "class Tail():\n",
    "\n",
    "    def __init__(self, x, y):\n",
    "        self.name = 'Tail'\n",
    "        self.r = y\n",
    "        self.c = x\n",
    "        self.pos = [[x,y]]\n",
    "\n",
    "    def moveT(self, head):\n",
    "        dx, dy = head.c - self.c, head.r-self.r\n",
    "        if sqrt(dx**2+dy**2) > sqrt(2):\n",
    "            self.r += np.sign(dy)*min(1, abs(dy))\n",
    "            self.c += np.sign(dx)*min(1, abs(dx))\n",
    "            if not [self.c,self.r] in self.pos:\n",
    "                self.pos.append([self.c,self.r])\n",
    "\n",
    "tail = Tail(0, 0)\n",
    "head = Head(0, 0, tail)\n",
    "\n",
    "with open('input/9.txt', 'r') as file:\n",
    "    lines = file.readlines()\n",
    "    for line in lines:\n",
    "        [D, l] = line.strip().split(' ')\n",
    "        head.move(D, int(l))\n",
    "        \n",
    "    print(len(tail.pos))\n"
   ]
  },
  {
   "attachments": {},
   "cell_type": "markdown",
   "metadata": {},
   "source": [
    "### Part 2"
   ]
  },
  {
   "cell_type": "code",
   "execution_count": 34,
   "metadata": {},
   "outputs": [
    {
     "ename": "TypeError",
     "evalue": "Head.move() missing 1 required positional argument: 'l'",
     "output_type": "error",
     "traceback": [
      "\u001b[0;31m---------------------------------------------------------------------------\u001b[0m",
      "\u001b[0;31mTypeError\u001b[0m                                 Traceback (most recent call last)",
      "Cell \u001b[0;32mIn [34], line 20\u001b[0m\n\u001b[1;32m     18\u001b[0m \u001b[39mfor\u001b[39;00m line \u001b[39min\u001b[39;00m lines:\n\u001b[1;32m     19\u001b[0m     [D, l] \u001b[39m=\u001b[39m line\u001b[39m.\u001b[39mstrip()\u001b[39m.\u001b[39msplit(\u001b[39m'\u001b[39m\u001b[39m \u001b[39m\u001b[39m'\u001b[39m)\n\u001b[0;32m---> 20\u001b[0m     rope\u001b[39m.\u001b[39;49mmove(D, \u001b[39mint\u001b[39;49m(l))\n\u001b[1;32m     22\u001b[0m \u001b[39mprint\u001b[39m(\u001b[39mlen\u001b[39m(rope\u001b[39m.\u001b[39mT\u001b[39m.\u001b[39mpos))\n",
      "Cell \u001b[0;32mIn [34], line 13\u001b[0m, in \u001b[0;36mRope.move\u001b[0;34m(self, D, l)\u001b[0m\n\u001b[1;32m     11\u001b[0m \u001b[39mdef\u001b[39;00m \u001b[39mmove\u001b[39m(\u001b[39mself\u001b[39m,D,l):\n\u001b[1;32m     12\u001b[0m     \u001b[39mfor\u001b[39;00m i \u001b[39min\u001b[39;00m \u001b[39mrange\u001b[39m(l):\n\u001b[0;32m---> 13\u001b[0m         \u001b[39mself\u001b[39;49m\u001b[39m.\u001b[39;49mH\u001b[39m.\u001b[39;49mmove(D,\u001b[39m1\u001b[39;49m)\n",
      "Cell \u001b[0;32mIn [33], line 22\u001b[0m, in \u001b[0;36mHead.move\u001b[0;34m(self, D, l)\u001b[0m\n\u001b[1;32m     20\u001b[0m     \u001b[39mself\u001b[39m\u001b[39m.\u001b[39mtail\u001b[39m.\u001b[39mmoveT(\u001b[39mself\u001b[39m)\n\u001b[1;32m     21\u001b[0m \u001b[39melif\u001b[39;00m \u001b[39mself\u001b[39m\u001b[39m.\u001b[39mtail\u001b[39m.\u001b[39mname \u001b[39m==\u001b[39m \u001b[39m'\u001b[39m\u001b[39mKnot\u001b[39m\u001b[39m'\u001b[39m:\n\u001b[0;32m---> 22\u001b[0m     \u001b[39mself\u001b[39;49m\u001b[39m.\u001b[39;49mtail\u001b[39m.\u001b[39;49mmove(\u001b[39mself\u001b[39;49m)\n",
      "\u001b[0;31mTypeError\u001b[0m: Head.move() missing 1 required positional argument: 'l'"
     ]
    }
   ],
   "source": [
    "class Rope():\n",
    "    \n",
    "    def __init__(self,L):\n",
    "        self.L = L\n",
    "        self.T = Tail(0,0)\n",
    "        self.knots = [self.T]\n",
    "        for k in range(L-1):\n",
    "            self.knots.append(Head(0,0,self.knots[-1]))\n",
    "        self.H = self.knots[-1]\n",
    "\n",
    "    def move(self,D,l):\n",
    "        for i in range(l):\n",
    "            self.H.move(D,1)\n",
    "\n",
    "rope = Rope(10)\n",
    "with open('input/9_test.txt', 'r') as file:\n",
    "    lines = file.readlines()\n",
    "    for line in lines:\n",
    "        [D, l] = line.strip().split(' ')\n",
    "        rope.move(D, int(l))\n",
    "        \n",
    "    print(len(rope.T.pos))"
   ]
  }
 ],
 "metadata": {
  "kernelspec": {
   "display_name": "Python 3.10.6 64-bit",
   "language": "python",
   "name": "python3"
  },
  "language_info": {
   "codemirror_mode": {
    "name": "ipython",
    "version": 3
   },
   "file_extension": ".py",
   "mimetype": "text/x-python",
   "name": "python",
   "nbconvert_exporter": "python",
   "pygments_lexer": "ipython3",
   "version": "3.10.6"
  },
  "orig_nbformat": 4,
  "vscode": {
   "interpreter": {
    "hash": "916dbcbb3f70747c44a77c7bcd40155683ae19c65e1c03b4aa3499c5328201f1"
   }
  }
 },
 "nbformat": 4,
 "nbformat_minor": 2
}
