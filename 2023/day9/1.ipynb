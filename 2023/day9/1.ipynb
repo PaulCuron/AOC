{
 "cells": [
  {
   "cell_type": "code",
   "execution_count": 29,
   "metadata": {},
   "outputs": [],
   "source": [
    "with open('input.txt') as f:\n",
    "    lines = f.readlines()"
   ]
  },
  {
   "cell_type": "code",
   "execution_count": 30,
   "metadata": {},
   "outputs": [],
   "source": [
    "def isEmpty(L):\n",
    "    for l in L:\n",
    "        if l!=0:\n",
    "            return False\n",
    "    return True\n",
    "\n",
    "def derivate(L):\n",
    "    return [L[i+1]-L[i] for i in range(len(L)-1)]\n",
    "S = 0\n",
    "for line in lines:\n",
    "    line = line.split()\n",
    "    line = [int(l) for l in line]\n",
    "    tab = [line]\n",
    "    while not isEmpty(line):\n",
    "        line = derivate(line)\n",
    "        tab.append(line)\n",
    "    h = 0\n",
    "    for i in range(1,len(tab)):\n",
    "        h = -h+tab[-i-1][0]\n",
    "    S+=h\n"
   ]
  },
  {
   "cell_type": "code",
   "execution_count": 31,
   "metadata": {},
   "outputs": [
    {
     "data": {
      "text/plain": [
       "933"
      ]
     },
     "execution_count": 31,
     "metadata": {},
     "output_type": "execute_result"
    }
   ],
   "source": [
    "S"
   ]
  },
  {
   "cell_type": "code",
   "execution_count": null,
   "metadata": {},
   "outputs": [],
   "source": []
  }
 ],
 "metadata": {
  "kernelspec": {
   "display_name": "base",
   "language": "python",
   "name": "python3"
  },
  "language_info": {
   "codemirror_mode": {
    "name": "ipython",
    "version": 3
   },
   "file_extension": ".py",
   "mimetype": "text/x-python",
   "name": "python",
   "nbconvert_exporter": "python",
   "pygments_lexer": "ipython3",
   "version": "3.11.5"
  }
 },
 "nbformat": 4,
 "nbformat_minor": 2
}
