{
 "cells": [
  {
   "cell_type": "code",
   "execution_count": 40,
   "metadata": {},
   "outputs": [],
   "source": [
    "grid = []\n",
    "with open('input.txt') as f:\n",
    "    for line in f.readlines():\n",
    "        grid.append(line.strip())\n"
   ]
  },
  {
   "cell_type": "code",
   "execution_count": 41,
   "metadata": {},
   "outputs": [],
   "source": [
    "import matplotlib.pyplot as plt\n",
    "\n",
    "def propagate(grid, pos=[0,0], dir = [0,1]):\n",
    "\n",
    "    height, width = len(grid), len(grid[0])\n",
    "    cache = {}\n",
    "    nodes = [[pos,dir]]\n",
    "\n",
    "    def advance(pos,dir):\n",
    "        x, y = pos[0], pos[1]\n",
    "        dx, dy = dir[0], dir[1]\n",
    "        if x<0 or x >= height or y<0 or y>=width:\n",
    "            return []\n",
    "        tile = grid[x][y]\n",
    "\n",
    "        if  tile == '-':\n",
    "            if dir[0] != 0:\n",
    "                return [[[x,y-1],[0,-1]],[[x,y+1],[0,1]]]\n",
    "        elif tile == '|':\n",
    "            if dir[1] != 0:\n",
    "                return [[[x-1,y],[-1,0]],[[x+1,y],[1,0]]]\n",
    "        elif tile == 'L':\n",
    "            return [[[x+dy, y+dx ],[dy,dx]]]\n",
    "\n",
    "        elif tile == '/':\n",
    "            return [[[x-dy, y-dx ],[-dy,-dx]]]\n",
    "        return [[[x+dx,y+dy],dir]]\n",
    "\n",
    "    while nodes:\n",
    "        pos, dir = nodes.pop()\n",
    "        x,y = pos\n",
    "        if 0<=x<height and 0<=y<width:\n",
    "            if str(pos) in cache:\n",
    "                if not dir in cache[str(pos)]:\n",
    "                    cache[str(pos)].append(dir)\n",
    "                else:\n",
    "                    continue\n",
    "            else:\n",
    "                cache[str(pos)] = [dir]\n",
    "            step = advance(pos,dir)\n",
    "            for s in step:\n",
    "                nodes.append(s)\n",
    "        else:\n",
    "            continue      \n",
    "    return (cache)"
   ]
  },
  {
   "cell_type": "code",
   "execution_count": 42,
   "metadata": {},
   "outputs": [
    {
     "name": "stdout",
     "output_type": "stream",
     "text": [
      "7434\n"
     ]
    }
   ],
   "source": [
    "cache = propagate(grid)\n",
    "total1 = len(cache.keys())\n",
    "print(total1)"
   ]
  },
  {
   "cell_type": "code",
   "execution_count": 45,
   "metadata": {},
   "outputs": [],
   "source": [
    "height, width = len(grid), len(grid[0])\n",
    "starts = [[[i,0],[0,1]] for i in range(height)]\\\n",
    "            +[[[0,i],[1,0]] for i in range(width)]\\\n",
    "            +[[[i,width-1],[0,-1]] for i in range(height)]\\\n",
    "            +[[[height-1,i],[-1,0]] for i in range(width)]\n",
    "\n"
   ]
  },
  {
   "cell_type": "code",
   "execution_count": 46,
   "metadata": {},
   "outputs": [
    {
     "name": "stdout",
     "output_type": "stream",
     "text": [
      "8183\n"
     ]
    }
   ],
   "source": [
    "M = 0\n",
    "\n",
    "for start in starts:\n",
    "    pos, dir = start[0], start[1]\n",
    "    cache = propagate(grid, pos, dir)\n",
    "    M = max(M, len(cache.keys()))\n",
    "print(M) "
   ]
  },
  {
   "cell_type": "code",
   "execution_count": null,
   "metadata": {},
   "outputs": [],
   "source": []
  }
 ],
 "metadata": {
  "kernelspec": {
   "display_name": "base",
   "language": "python",
   "name": "python3"
  },
  "language_info": {
   "codemirror_mode": {
    "name": "ipython",
    "version": 3
   },
   "file_extension": ".py",
   "mimetype": "text/x-python",
   "name": "python",
   "nbconvert_exporter": "python",
   "pygments_lexer": "ipython3",
   "version": "3.11.5"
  }
 },
 "nbformat": 4,
 "nbformat_minor": 2
}
