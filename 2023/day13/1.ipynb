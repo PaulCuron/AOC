{
 "cells": [
  {
   "cell_type": "code",
   "execution_count": 105,
   "metadata": {},
   "outputs": [],
   "source": [
    "patterns = []\n",
    "with open('input.txt') as f:\n",
    "    pattern= []\n",
    "    for line in f.readlines():\n",
    "        if not line.strip():\n",
    "            patterns.append(pattern)\n",
    "            pattern = []\n",
    "        else:\n",
    "            pattern.append(line.strip())\n",
    "    if pattern not in patterns:\n",
    "        patterns.append(pattern)"
   ]
  },
  {
   "cell_type": "code",
   "execution_count": 106,
   "metadata": {},
   "outputs": [],
   "source": [
    "def findmirrors(pattern):\n",
    "    #mirroir verticaux\n",
    "    ncol = len(pattern[0])\n",
    "    vmirrors = [i+1 for i in range(ncol-1)]\n",
    "    for line in pattern:\n",
    "        fake = []\n",
    "        for col in vmirrors:\n",
    "            refl = [line[col-i-1]==line[col+i] for i in range(min(col, ncol-col))]\n",
    "            if False in refl:\n",
    "                fake.append(col)\n",
    "        for col in fake:\n",
    "            vmirrors.remove(col)\n",
    "        if len(vmirrors)==0:\n",
    "            vmirrors = [0]\n",
    "            break\n",
    "    nline = len(pattern)\n",
    "    hmirrors = [i+1 for i in range(nline-1)]\n",
    "    for col in range(ncol):\n",
    "        fake = []\n",
    "        for line in hmirrors:\n",
    "            refl = [pattern[line-i-1][col]==pattern[line+i][col] for i in range(min(line, nline-line))]\n",
    "            if False in refl:\n",
    "                fake.append(line)\n",
    "        for line in fake:\n",
    "            hmirrors.remove(line)\n",
    "        if len(hmirrors)==0:\n",
    "            hmirrors = [0]\n",
    "            break\n",
    "    \n",
    "    return vmirrors, hmirrors\n",
    "    "
   ]
  },
  {
   "cell_type": "code",
   "execution_count": 107,
   "metadata": {},
   "outputs": [],
   "source": [
    "def findmirrors2(pattern):\n",
    "    #mirroir verticaux\n",
    "    ncol = len(pattern[0])\n",
    "    vmirrors = {i+1:0 for i in range(ncol-1)}\n",
    "    for line in pattern:\n",
    "        fake = []\n",
    "        for col in vmirrors:\n",
    "            refl = [1-1*(line[col-i-1]==line[col+i]) for i in range(min(col, ncol-col))]\n",
    "            vmirrors[col] += sum(refl) # on compte le nb d'erreur\n",
    "            if vmirrors[col] >1:\n",
    "                fake.append(col)\n",
    "        for col in fake:\n",
    "            del vmirrors[col]\n",
    "        if len(vmirrors.keys())==0:\n",
    "            vmirrors = {0:0}\n",
    "            break\n",
    "    nline = len(pattern)\n",
    "    hmirrors = {i+1:0 for i in range(nline-1)}\n",
    "    for col in range(ncol):\n",
    "        fake = []\n",
    "        for line in hmirrors:\n",
    "            refl = [1- 1*(pattern[line-i-1][col]==pattern[line+i][col]) for i in range(min(line, nline-line))]\n",
    "            hmirrors[line] += sum(refl)\n",
    "            if hmirrors[line] > 1:\n",
    "                fake.append(line)\n",
    "        for line in fake:\n",
    "            del hmirrors[line]\n",
    "        if len(hmirrors.keys())==0:\n",
    "            hmirrors = {0:0}\n",
    "            break\n",
    "    \n",
    "    return vmirrors, hmirrors\n",
    "    "
   ]
  },
  {
   "cell_type": "code",
   "execution_count": 108,
   "metadata": {},
   "outputs": [
    {
     "name": "stdout",
     "output_type": "stream",
     "text": [
      "30158\n",
      "36474\n",
      "elapsed time: 0.026180505752563477\n"
     ]
    }
   ],
   "source": [
    "total1 = 0\n",
    "total2 = 0\n",
    "import time\n",
    "s = time.time()\n",
    "for pattern in patterns:\n",
    "    col, line = findmirrors(pattern)\n",
    "    total1 += col[0]+100*line[0]\n",
    "\n",
    "    col, line = findmirrors2(pattern)\n",
    "    for c in col:\n",
    "        if col[c] == 1:\n",
    "            total2+= c\n",
    "            break\n",
    "    for l in line:\n",
    "        if line[l] == 1:\n",
    "            total2 += 100*l\n",
    "            break\n",
    "\n",
    "    \n",
    "\n",
    "print(total1)\n",
    "print(total2)\n",
    "print(f'elapsed time: {time.time()-s}')"
   ]
  },
  {
   "cell_type": "code",
   "execution_count": null,
   "metadata": {},
   "outputs": [],
   "source": []
  }
 ],
 "metadata": {
  "kernelspec": {
   "display_name": "base",
   "language": "python",
   "name": "python3"
  },
  "language_info": {
   "codemirror_mode": {
    "name": "ipython",
    "version": 3
   },
   "file_extension": ".py",
   "mimetype": "text/x-python",
   "name": "python",
   "nbconvert_exporter": "python",
   "pygments_lexer": "ipython3",
   "version": "3.11.5"
  }
 },
 "nbformat": 4,
 "nbformat_minor": 2
}
