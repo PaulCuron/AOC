{
 "cells": [
  {
   "cell_type": "code",
   "execution_count": 50,
   "metadata": {},
   "outputs": [],
   "source": [
    "with open('input.txt') as f:\n",
    "    line = f.readline()\n",
    "    sequences = line.split(',')"
   ]
  },
  {
   "cell_type": "code",
   "execution_count": 51,
   "metadata": {},
   "outputs": [],
   "source": [
    "def hash(seq, mul = 17, div = 256):\n",
    "    n = 0\n",
    "    for c in seq:\n",
    "        n+= ord(c)\n",
    "        n = n*mul\n",
    "        n = n%div\n",
    "    return n"
   ]
  },
  {
   "cell_type": "code",
   "execution_count": 52,
   "metadata": {},
   "outputs": [
    {
     "name": "stdout",
     "output_type": "stream",
     "text": [
      "498538\n"
     ]
    }
   ],
   "source": [
    "total1 = 0\n",
    "for seq in sequences:\n",
    "    M = hash(seq)\n",
    "    total1 += M\n",
    "print(total1)"
   ]
  },
  {
   "cell_type": "code",
   "execution_count": 53,
   "metadata": {},
   "outputs": [],
   "source": [
    "def update(hashmap, seq):\n",
    "    if '=' in seq:\n",
    "        seq = seq.split('=')\n",
    "        operation = '='\n",
    "        focal = seq[1]\n",
    "    elif '-' in seq:\n",
    "        seq = seq.split('-')\n",
    "        operation = '-'\n",
    "    label = seq[0]\n",
    "    box = hash(label)\n",
    "    if operation == '=':\n",
    "        if label in hashmap[box][0]:\n",
    "            idx = hashmap[box][0].index(label)\n",
    "\n",
    "            hashmap[box][1][idx] = focal\n",
    "        else:\n",
    "            hashmap[box][0].append(label)\n",
    "            hashmap[box][1].append(focal)\n",
    "    elif operation == '-':\n",
    "        if label in hashmap[box][0]:\n",
    "            idx = hashmap[box][0].index(label)\n",
    "            hashmap[box][0] = hashmap[box][0][:idx]+hashmap[box][0][idx+1:]\n",
    "            hashmap[box][1] = hashmap[box][1][:idx]+hashmap[box][1][idx+1:]\n",
    "\n",
    "\n",
    "\n",
    "    return hashmap"
   ]
  },
  {
   "cell_type": "code",
   "execution_count": 54,
   "metadata": {},
   "outputs": [
    {
     "data": {
      "text/plain": [
       "286278"
      ]
     },
     "execution_count": 54,
     "metadata": {},
     "output_type": "execute_result"
    }
   ],
   "source": [
    "total2 = 0\n",
    "hashmap = {i:[[],[]] for i in range(256)}\n",
    "\n",
    "for seq in sequences:\n",
    "    hashmap = update(hashmap, seq)\n",
    "\n",
    "for box in hashmap.keys():\n",
    "    for i,lens in enumerate(hashmap[box][0]):\n",
    "        \n",
    "        total2 += (1+box)*(1+i)*int(hashmap[box][1][i])\n",
    "total2"
   ]
  },
  {
   "cell_type": "code",
   "execution_count": null,
   "metadata": {},
   "outputs": [],
   "source": []
  }
 ],
 "metadata": {
  "kernelspec": {
   "display_name": "base",
   "language": "python",
   "name": "python3"
  },
  "language_info": {
   "codemirror_mode": {
    "name": "ipython",
    "version": 3
   },
   "file_extension": ".py",
   "mimetype": "text/x-python",
   "name": "python",
   "nbconvert_exporter": "python",
   "pygments_lexer": "ipython3",
   "version": "3.11.5"
  }
 },
 "nbformat": 4,
 "nbformat_minor": 2
}
