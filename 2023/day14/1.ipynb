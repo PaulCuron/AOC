{
 "cells": [
  {
   "cell_type": "code",
   "execution_count": 130,
   "metadata": {},
   "outputs": [],
   "source": [
    "grid = []\n",
    "with open('input.txt') as f:\n",
    "    lines = f.readlines()\n",
    "for line in lines:\n",
    "    l = []\n",
    "    for c in line:\n",
    "        if c == '.':\n",
    "            l.append(-1)\n",
    "        elif c=='#':\n",
    "            l.append(0)\n",
    "        elif c ==('O'):\n",
    "            l.append(1)\n",
    "    grid.append(l)"
   ]
  },
  {
   "cell_type": "code",
   "execution_count": 131,
   "metadata": {},
   "outputs": [],
   "source": [
    "def tilt_north(grid):\n",
    "    last_free = [0 for i in range(len(grid[0]))]\n",
    "    for i,line in enumerate(grid):\n",
    "        for j,c in enumerate(line):\n",
    "            if c==1:\n",
    "                grid[i][j],grid[last_free[j]][j] =-1,1\n",
    "                last_free[j] += 1\n",
    "            elif c==0:\n",
    "                last_free[j] = i+1\n",
    "    return grid\n",
    "\n",
    "\n",
    "def tilt_west(grid):\n",
    "    last_free = [0 for i in range(len(grid))]\n",
    "    for i,line in enumerate(grid):\n",
    "        for j,c in enumerate(line):\n",
    "            if c==1:\n",
    "                grid[i][j],grid[i][last_free[i]] =-1,1\n",
    "                last_free[i] += 1\n",
    "            elif c==0:\n",
    "                last_free[i] = j+1  \n",
    "    return grid\n",
    "\n",
    "def tilt_south(grid):\n",
    "    last_free = [len(grid)-1 for i in range(len(grid[0]))]\n",
    "    for i in range(len(grid)-1, -1,-1):\n",
    "        line = grid[i]\n",
    "        for j,c in enumerate(line):\n",
    "            if c==1:\n",
    "                grid[i][j],grid[last_free[j]][j] =-1,1\n",
    "                last_free[j] -= 1\n",
    "            elif c==0:\n",
    "                last_free[j] = i-1         \n",
    "    return grid\n",
    "\n",
    "def tilt_east(grid):\n",
    "    last_free = [len(grid[0])-1 for i in range(len(grid))]\n",
    "    for i,line in enumerate(grid):\n",
    "        for j in range(len(grid[0])-1, -1, -1):\n",
    "            c = grid[i][j]\n",
    "            if c==1:\n",
    "                grid[i][j],grid[i][last_free[i]] =-1,1\n",
    "                last_free[i] -= 1\n",
    "            elif c==0:\n",
    "                last_free[i] = j-1  \n",
    "    return grid\n",
    "\n",
    "def cycle(grid):\n",
    "    grid = tilt_north(grid)\n",
    "    grid = tilt_west(grid)\n",
    "    grid = tilt_south(grid)\n",
    "    grid = tilt_east(grid)\n",
    "    return grid\n"
   ]
  },
  {
   "cell_type": "code",
   "execution_count": 132,
   "metadata": {},
   "outputs": [
    {
     "name": "stdout",
     "output_type": "stream",
     "text": [
      "103614\n"
     ]
    }
   ],
   "source": [
    "\n",
    "tilted_grid = tilt_north(grid)\n",
    "\n",
    "\n",
    "n_line = len(tilted_grid)\n",
    "total1 = 0\n",
    "for i,line in enumerate(tilted_grid):\n",
    "    total1 += sum([1*(c==1) for c in line ])*(n_line-i)\n",
    "print(total1)\n"
   ]
  },
  {
   "cell_type": "code",
   "execution_count": 133,
   "metadata": {},
   "outputs": [],
   "source": [
    "import time\n",
    "cycle_found = False\n",
    "history = {str(cycle):0}\n",
    "T = 0\n",
    "while not cycle_found:\n",
    "    grid =cycle(grid)\n",
    "    T+=1\n",
    "    if str(grid) in history.keys():\n",
    "        t0 = history[str(grid)]\n",
    "        period = T - t0\n",
    "        cycle_found = True\n",
    "    else:\n",
    "        history[str(grid)] = T\n",
    "\n",
    "r = (1000000000-t0)%period"
   ]
  },
  {
   "cell_type": "code",
   "execution_count": 138,
   "metadata": {},
   "outputs": [
    {
     "data": {
      "text/plain": [
       "33"
      ]
     },
     "execution_count": 138,
     "metadata": {},
     "output_type": "execute_result"
    }
   ],
   "source": [
    "period\n",
    "r"
   ]
  },
  {
   "cell_type": "code",
   "execution_count": 136,
   "metadata": {},
   "outputs": [
    {
     "name": "stdout",
     "output_type": "stream",
     "text": [
      "83775\n"
     ]
    }
   ],
   "source": [
    "for i in range(r):\n",
    "    grid =cycle(grid)\n",
    "n_line = len(grid)\n",
    "total2 = 0\n",
    "for i,line in enumerate(grid):\n",
    "    total2 += sum([1*(c==1) for c in line ])*(n_line-i)\n",
    "print(total2)"
   ]
  }
 ],
 "metadata": {
  "kernelspec": {
   "display_name": "base",
   "language": "python",
   "name": "python3"
  },
  "language_info": {
   "codemirror_mode": {
    "name": "ipython",
    "version": 3
   },
   "file_extension": ".py",
   "mimetype": "text/x-python",
   "name": "python",
   "nbconvert_exporter": "python",
   "pygments_lexer": "ipython3",
   "version": "3.11.5"
  }
 },
 "nbformat": 4,
 "nbformat_minor": 2
}
