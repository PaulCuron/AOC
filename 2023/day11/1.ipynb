{
 "cells": [
  {
   "cell_type": "code",
   "execution_count": 51,
   "metadata": {},
   "outputs": [],
   "source": [
    "img = []\n",
    "expand_ver=[]\n",
    "with open('input.txt') as f:\n",
    "    for j,l in enumerate(f.readlines()):\n",
    "        img.append(l.strip())\n",
    "        if not '#' in l:\n",
    "            expand_ver.append(j)\n",
    "expand_hor = []\n",
    "for i in range(len(img[0])):\n",
    "    if not '#' in [line[i] for line in img]:\n",
    "        expand_hor.append(i)\n",
    "\n"
   ]
  },
  {
   "cell_type": "code",
   "execution_count": 52,
   "metadata": {},
   "outputs": [],
   "source": [
    "galaxies = []\n",
    "for i,line in enumerate(img):\n",
    "    for j,c in enumerate(line):\n",
    "        if c=='#':\n",
    "            galaxies.append([i,j])"
   ]
  },
  {
   "cell_type": "code",
   "execution_count": 53,
   "metadata": {},
   "outputs": [
    {
     "data": {
      "text/plain": [
       "699909023130"
      ]
     },
     "execution_count": 53,
     "metadata": {},
     "output_type": "execute_result"
    }
   ],
   "source": [
    "L = 0\n",
    "M = 1000000\n",
    "for i in range(len(galaxies)-1):\n",
    "    xs,ys = galaxies[i]\n",
    "    for j in range(i+1, len(galaxies)):\n",
    "        xe,ye = galaxies[j]\n",
    "        l = abs(xe-xs)+(M-1)*sum([(min(xe,xs)<v<max(xe,xs)) for v in expand_ver]) + abs(ye-ys)+(M-1)*sum([(min(ye,ys)<v<max(ye,ys)) for v in expand_hor])\n",
    "        L+=l\n",
    "L"
   ]
  },
  {
   "cell_type": "code",
   "execution_count": null,
   "metadata": {},
   "outputs": [],
   "source": []
  }
 ],
 "metadata": {
  "kernelspec": {
   "display_name": "base",
   "language": "python",
   "name": "python3"
  },
  "language_info": {
   "codemirror_mode": {
    "name": "ipython",
    "version": 3
   },
   "file_extension": ".py",
   "mimetype": "text/x-python",
   "name": "python",
   "nbconvert_exporter": "python",
   "pygments_lexer": "ipython3",
   "version": "3.11.5"
  }
 },
 "nbformat": 4,
 "nbformat_minor": 2
}
