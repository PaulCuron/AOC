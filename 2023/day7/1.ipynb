{
 "cells": [
  {
   "cell_type": "code",
   "execution_count": 81,
   "metadata": {},
   "outputs": [],
   "source": [
    "STRENGTH = {'1':1,\n",
    "            '2':2,\n",
    "            '3':3,\n",
    "            '4':4,\n",
    "            '5':5,\n",
    "            '6':6,\n",
    "            '7':7,\n",
    "            '8':8,\n",
    "            '9':9,\n",
    "            'T':10,\n",
    "            'J':0,\n",
    "            'Q':12,\n",
    "            'K':13,\n",
    "            'A':14\n",
    "            }\n",
    "\n"
   ]
  },
  {
   "cell_type": "code",
   "execution_count": 90,
   "metadata": {},
   "outputs": [],
   "source": [
    "def getType(hand):\n",
    "    L = [0]*14\n",
    "    for c in hand:\n",
    "        L[STRENGTH[c]-1*(STRENGTH[c]>10)] += 1\n",
    "    if 5 in L:\n",
    "        return 6\n",
    "    elif 4 in L[1:]:\n",
    "        if L[0]==1:\n",
    "            return 6\n",
    "        else:\n",
    "            return 5\n",
    "    elif 3 in L[1:]:\n",
    "        if 2 in L[1:]:\n",
    "            return 4\n",
    "        elif L[0] == 2:\n",
    "            return 6\n",
    "        else:\n",
    "            if L[0] == 1:\n",
    "                return 5\n",
    "            elif L[0] ==2:\n",
    "                return 6\n",
    "            else:\n",
    "                return 3\n",
    "    elif 2 in L[1:]:\n",
    "        if 2 in L[L[1:].index(2)+2:]:\n",
    "            if L[0] == 1:\n",
    "                return 4\n",
    "            else:\n",
    "                return 2\n",
    "        else:\n",
    "            if L[0]==1:\n",
    "                return 3\n",
    "            elif L[0]==2:\n",
    "                return 5\n",
    "            elif L[0] ==3:\n",
    "                return 6\n",
    "            else:\n",
    "                return 1\n",
    "    else:\n",
    "        if L[0]==1:\n",
    "            return 1\n",
    "        elif L[0]==2:\n",
    "            return 3\n",
    "        elif L[0] ==3:\n",
    "            return 5\n",
    "        elif L[0] ==4:\n",
    "            return 6\n",
    "        else:\n",
    "            return 0\n",
    "    print(L)\n",
    "    "
   ]
  },
  {
   "cell_type": "code",
   "execution_count": 91,
   "metadata": {},
   "outputs": [],
   "source": [
    "def compare(hand1, hand2):\n",
    "    t1, t2 = getType(hand1), getType(hand2)\n",
    "    if t1 > t2:\n",
    "        weak, strong = hand2, hand1\n",
    "    elif t2 > t1:\n",
    "        weak, strong = hand1, hand2\n",
    "    else:\n",
    "        i = 0\n",
    "        tie = True\n",
    "        while tie:\n",
    "            if STRENGTH[hand1[i]]>STRENGTH[hand2[i]]:\n",
    "                tie = False\n",
    "                weak, strong = hand2, hand1\n",
    "            elif STRENGTH[hand1[i]]<STRENGTH[hand2[i]]:\n",
    "                tie = False\n",
    "                weak, strong = hand1, hand2\n",
    "            else:\n",
    "                i+=1\n",
    "    return weak == hand1\n",
    "\n"
   ]
  },
  {
   "cell_type": "code",
   "execution_count": 92,
   "metadata": {},
   "outputs": [],
   "source": [
    "def trifusion(L):\n",
    "    n = len(L)\n",
    "    if n <= 1:\n",
    "        return L\n",
    "    else:\n",
    "        return fusion(trifusion(L[:n//2]), trifusion(L[n//2:]))\n",
    "    \n",
    "def fusion(L1, L2):\n",
    "    if L1 == []:\n",
    "        return L2\n",
    "    if L2 == []:\n",
    "        return L1\n",
    "    if compare(L1[0][0],L2[0][0]):\n",
    "        return [L1[0]]+list(fusion(L1[1:],L2))\n",
    "    else:\n",
    "        return [L2[0]]+list(fusion(L1,L2[1:]))"
   ]
  },
  {
   "cell_type": "code",
   "execution_count": 93,
   "metadata": {},
   "outputs": [
    {
     "name": "stdout",
     "output_type": "stream",
     "text": [
      "0.19061517715454102 s\n"
     ]
    },
    {
     "data": {
      "text/plain": [
       "251421071"
      ]
     },
     "execution_count": 93,
     "metadata": {},
     "output_type": "execute_result"
    }
   ],
   "source": [
    "import time\n",
    "st = time.time()\n",
    "with open('input.txt') as f:\n",
    "    hands = []\n",
    "    for line in f.readlines():\n",
    "        line = line.split()\n",
    "        hands.append([line[0],int(line[1])])\n",
    "H = trifusion(hands)\n",
    "s=0\n",
    "for i,h in enumerate(H):\n",
    "    s += h[1]*(i+1)\n",
    "e = time.time()\n",
    "print(f'{e-st} s')\n",
    "s"
   ]
  },
  {
   "cell_type": "code",
   "execution_count": null,
   "metadata": {},
   "outputs": [],
   "source": []
  },
  {
   "cell_type": "code",
   "execution_count": null,
   "metadata": {},
   "outputs": [],
   "source": []
  }
 ],
 "metadata": {
  "kernelspec": {
   "display_name": "base",
   "language": "python",
   "name": "python3"
  },
  "language_info": {
   "codemirror_mode": {
    "name": "ipython",
    "version": 3
   },
   "file_extension": ".py",
   "mimetype": "text/x-python",
   "name": "python",
   "nbconvert_exporter": "python",
   "pygments_lexer": "ipython3",
   "version": "3.11.5"
  }
 },
 "nbformat": 4,
 "nbformat_minor": 2
}
