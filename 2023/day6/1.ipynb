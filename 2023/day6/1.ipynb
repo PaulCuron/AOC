{
 "cells": [
  {
   "cell_type": "code",
   "execution_count": 16,
   "metadata": {},
   "outputs": [],
   "source": [
    "with open('input.txt') as f:\n",
    "    times = f.readline().split(\":\")[1]\n",
    "    distances = f.readline().split(\":\")[1]"
   ]
  },
  {
   "cell_type": "code",
   "execution_count": 15,
   "metadata": {},
   "outputs": [
    {
     "name": "stdout",
     "output_type": "stream",
     "text": [
      "42\n",
      "5\n",
      "35\n",
      "31\n",
      "227850\n"
     ]
    }
   ],
   "source": [
    "from math import sqrt\n",
    "S = 1\n",
    "for i,T in enumerate(times):\n",
    "    b = -int(T)\n",
    "    a = 1\n",
    "    c = int(distances[i])\n",
    "    D = b**2-4*a*c\n",
    "    if D>0:\n",
    "        x1 = (-b-sqrt(D))/(2*a)\n",
    "        x2 = (-b+sqrt(D))/(2*a)\n",
    "        N = int(x2)-int(x1)\n",
    "        \n",
    "        if int(x2) == x2:\n",
    "            N-=1\n",
    "    elif D == 0:\n",
    "        if type(-b/2) is int:\n",
    "            N = 1\n",
    "    else :\n",
    "        N = 0\n",
    "    S = S*N\n",
    "    print(N)\n",
    "\n",
    "print(S)"
   ]
  },
  {
   "cell_type": "code",
   "execution_count": 20,
   "metadata": {},
   "outputs": [
    {
     "name": "stdout",
     "output_type": "stream",
     "text": [
      "42948149\n"
     ]
    }
   ],
   "source": [
    "from math import sqrt\n",
    "S = 1\n",
    "b = -59707878\n",
    "a = 1\n",
    "c = 430121812131276\n",
    "D = b**2-4*a*c\n",
    "if D>0:\n",
    "    x1 = (-b-sqrt(D))/(2*a)\n",
    "    x2 = (-b+sqrt(D))/(2*a)\n",
    "    N = int(x2)-int(x1)\n",
    "    \n",
    "    if int(x2) == x2:\n",
    "        N-=1\n",
    "elif D == 0:\n",
    "    if type(-b/2) is int:\n",
    "        N = 1\n",
    "else :\n",
    "    N = 0\n",
    "print(N)\n",
    "\n"
   ]
  },
  {
   "cell_type": "code",
   "execution_count": 19,
   "metadata": {},
   "outputs": [
    {
     "ename": "ValueError",
     "evalue": "invalid literal for int() with base 10: '59     70     78     78'",
     "output_type": "error",
     "traceback": [
      "\u001b[1;31m---------------------------------------------------------------------------\u001b[0m",
      "\u001b[1;31mValueError\u001b[0m                                Traceback (most recent call last)",
      "\u001b[1;32mc:\\Users\\Eliott\\Documents\\ADVENT_OF_CODE\\2023\\day6\\1.ipynb Cell 4\u001b[0m line \u001b[0;36m1\n\u001b[1;32m----> <a href='vscode-notebook-cell:/c%3A/Users/Eliott/Documents/ADVENT_OF_CODE/2023/day6/1.ipynb#W5sZmlsZQ%3D%3D?line=0'>1</a>\u001b[0m \u001b[39mint\u001b[39m(times\u001b[39m.\u001b[39mstrip())\n",
      "\u001b[1;31mValueError\u001b[0m: invalid literal for int() with base 10: '59     70     78     78'"
     ]
    }
   ],
   "source": [
    "int(times.strip())"
   ]
  },
  {
   "cell_type": "code",
   "execution_count": null,
   "metadata": {},
   "outputs": [],
   "source": []
  }
 ],
 "metadata": {
  "kernelspec": {
   "display_name": "base",
   "language": "python",
   "name": "python3"
  },
  "language_info": {
   "codemirror_mode": {
    "name": "ipython",
    "version": 3
   },
   "file_extension": ".py",
   "mimetype": "text/x-python",
   "name": "python",
   "nbconvert_exporter": "python",
   "pygments_lexer": "ipython3",
   "version": "3.11.5"
  }
 },
 "nbformat": 4,
 "nbformat_minor": 2
}
