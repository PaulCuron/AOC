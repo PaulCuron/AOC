{
 "cells": [
  {
   "cell_type": "code",
   "execution_count": 59,
   "metadata": {},
   "outputs": [],
   "source": [
    "M = []\n",
    "with open('input.txt') as f:\n",
    "    for line in f.readlines():\n",
    "        line = line.split(\":\")[1]\n",
    "        line = line.strip().split(\"|\")\n",
    "        M.append([line[0].split(), line[1].split()])"
   ]
  },
  {
   "cell_type": "code",
   "execution_count": 60,
   "metadata": {},
   "outputs": [],
   "source": [
    "S = 0\n",
    "for card in M:\n",
    "    s = 0\n",
    "    for number in card[1]:\n",
    "        if number in card[0]:\n",
    "            s+=1\n",
    "    S += (s>0)*2**(s-1)"
   ]
  },
  {
   "cell_type": "code",
   "execution_count": 61,
   "metadata": {},
   "outputs": [
    {
     "data": {
      "text/plain": [
       "22674.0"
      ]
     },
     "execution_count": 61,
     "metadata": {},
     "output_type": "execute_result"
    }
   ],
   "source": [
    "S"
   ]
  },
  {
   "cell_type": "code",
   "execution_count": 62,
   "metadata": {},
   "outputs": [],
   "source": [
    "S = 0\n",
    "cards = {}\n",
    "\n",
    "for i,card in enumerate(M):\n",
    "    try:\n",
    "        cards[i] += 1\n",
    "    except:\n",
    "        cards[i] = 1\n",
    "    s = 0\n",
    "    for number in card[1]:\n",
    "        if number in card[0]:\n",
    "            s += 1\n",
    "    \n",
    "    for j in range(min(i+1,len(M)),min(i+s+1,len(M))):\n",
    "        try:\n",
    "            cards[j] += cards[i]\n",
    "        except:\n",
    "            cards[j] = cards[i]\n"
   ]
  },
  {
   "cell_type": "code",
   "execution_count": 63,
   "metadata": {},
   "outputs": [
    {
     "data": {
      "text/plain": [
       "5747443"
      ]
     },
     "execution_count": 63,
     "metadata": {},
     "output_type": "execute_result"
    }
   ],
   "source": [
    "for nc in cards.values():\n",
    "    S+=nc\n",
    "S"
   ]
  },
  {
   "cell_type": "code",
   "execution_count": null,
   "metadata": {},
   "outputs": [],
   "source": []
  }
 ],
 "metadata": {
  "kernelspec": {
   "display_name": "base",
   "language": "python",
   "name": "python3"
  },
  "language_info": {
   "codemirror_mode": {
    "name": "ipython",
    "version": 3
   },
   "file_extension": ".py",
   "mimetype": "text/x-python",
   "name": "python",
   "nbconvert_exporter": "python",
   "pygments_lexer": "ipython3",
   "version": "3.11.5"
  }
 },
 "nbformat": 4,
 "nbformat_minor": 2
}
