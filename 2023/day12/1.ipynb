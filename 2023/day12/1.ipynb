{
 "cells": [
  {
   "cell_type": "code",
   "execution_count": 429,
   "metadata": {},
   "outputs": [],
   "source": [
    "with open('input.txt') as f:\n",
    "    lines = f.readlines()"
   ]
  },
  {
   "cell_type": "code",
   "execution_count": 447,
   "metadata": {},
   "outputs": [],
   "source": [
    "def num_arr(records, pattern):\n",
    "    tab = {}\n",
    "    def combi(i,j):\n",
    "        if (i,j) in tab:\n",
    "            return tab[(i,j)]\n",
    "        \n",
    "        if i >= len(records) and j == len(pattern):\n",
    "            value = 1\n",
    "        elif i >= len(records):\n",
    "            value = 0\n",
    "        elif j == len(pattern):\n",
    "            value = 1*(records[i:].count('#')==0)\n",
    "        else:\n",
    "            l = pattern[j]\n",
    "            if records[i]=='.':\n",
    "                value = combi(i+1,j)\n",
    "            elif records[i]=='#':\n",
    "                flag = 1*(records[i:i+l].count('?')+records[i:i+l].count('#')==l and (i+l == len(records) or records[i+l]!='#'))\n",
    "                value = combi(i+l+1,j+1)*flag\n",
    "            else:\n",
    "                flag = 1*(records[i:i+l].count('?')+records[i:i+l].count('#')==l and (i+l == len(records) or records[i+l]!='#'))\n",
    "                value = combi(i+1,j)+flag*combi(i+l+1,j+1)\n",
    "        tab[(i,j)] = value\n",
    "        return value\n",
    "\n",
    "    return combi(0, 0)"
   ]
  },
  {
   "cell_type": "code",
   "execution_count": 448,
   "metadata": {},
   "outputs": [
    {
     "name": "stderr",
     "output_type": "stream",
     "text": [
      "  0%|          | 0/1000 [00:00<?, ?it/s]"
     ]
    },
    {
     "name": "stderr",
     "output_type": "stream",
     "text": [
      "100%|██████████| 1000/1000 [00:01<00:00, 978.09it/s]"
     ]
    },
    {
     "name": "stdout",
     "output_type": "stream",
     "text": [
      "7718\n",
      "128741994134728\n",
      "elapsed time: 1.025390386581421\n"
     ]
    },
    {
     "name": "stderr",
     "output_type": "stream",
     "text": [
      "\n"
     ]
    }
   ],
   "source": [
    "import time\n",
    "from tqdm import tqdm\n",
    "total1, total2 = 0, 0\n",
    "\n",
    "s = time.time()\n",
    "for p,line in enumerate(tqdm(lines)):\n",
    "    l,r = line.strip().split()\n",
    "    record = list(l)\n",
    "    pattern = [int(x) for x in r.split(',')]\n",
    "    total1 += num_arr(record, pattern)\n",
    "    record2 = record.copy()\n",
    "    pattern2 = pattern.copy()\n",
    "\n",
    "    for i in range(4):\n",
    "        record2+=['?']+record\n",
    "        pattern2+=pattern\n",
    "    total2 += num_arr(record2,pattern2)\n",
    "print(total1)\n",
    "print(total2)\n",
    "print(f'elapsed time: {time.time()-s}')"
   ]
  }
 ],
 "metadata": {
  "kernelspec": {
   "display_name": "base",
   "language": "python",
   "name": "python3"
  },
  "language_info": {
   "codemirror_mode": {
    "name": "ipython",
    "version": 3
   },
   "file_extension": ".py",
   "mimetype": "text/x-python",
   "name": "python",
   "nbconvert_exporter": "python",
   "pygments_lexer": "ipython3",
   "version": "3.11.5"
  }
 },
 "nbformat": 4,
 "nbformat_minor": 2
}
