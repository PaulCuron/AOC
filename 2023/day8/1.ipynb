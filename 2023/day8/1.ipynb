{
 "cells": [
  {
   "cell_type": "code",
   "execution_count": 2,
   "metadata": {},
   "outputs": [],
   "source": [
    "with open('input.txt') as f:\n",
    "    instr = f.readline().strip()\n",
    "    graph = {}\n",
    "    for line in f.readlines():\n",
    "        if line.strip() != \"\":\n",
    "            line = line.split('=')\n",
    "            node = line[0].strip()\n",
    "            children = line[1].split(',')\n",
    "            graph[node] = [children[0].strip()[1:], children[1].strip()[:-1]]"
   ]
  },
  {
   "cell_type": "code",
   "execution_count": 3,
   "metadata": {},
   "outputs": [
    {
     "name": "stdout",
     "output_type": "stream",
     "text": [
      "17287\n"
     ]
    }
   ],
   "source": [
    "i = 0\n",
    "s=0\n",
    "currnode = 'AAA'\n",
    "while currnode != 'ZZZ':\n",
    "    inst = instr[i%len(instr)]\n",
    "    if inst =='L':\n",
    "        currnode = graph[currnode][0]\n",
    "    else:\n",
    "        currnode = graph[currnode][1]\n",
    "    i+=1\n",
    "\n",
    "print(i)"
   ]
  },
  {
   "cell_type": "code",
   "execution_count": 6,
   "metadata": {},
   "outputs": [
    {
     "name": "stdout",
     "output_type": "stream",
     "text": [
      "(2, 13771, [13771])\n",
      "(3, 20803, [20803])\n",
      "(3, 23147, [23147])\n",
      "(2, 19631, [19631])\n",
      "(6, 17287, [17287])\n",
      "(3, 17873, [17873])\n"
     ]
    }
   ],
   "source": [
    "i = 0\n",
    "s=0\n",
    "startnodes = []\n",
    "starts = []\n",
    "def isEnd(L):\n",
    "    return l[-1]!='Z'\n",
    " \n",
    "for node in graph.keys():\n",
    "    if node[-1]=='A':\n",
    "        startnodes.append(node)\n",
    "\n",
    "def findPeriod(node,instr, graph):\n",
    "    i = 0\n",
    "    poss = []\n",
    "    Zs = []\n",
    "    currnode = node\n",
    "    while [currnode,i%len(instr)] not in poss:\n",
    "        poss.append([currnode,i%len(instr)])\n",
    "        if currnode[-1]=='Z':\n",
    "            Zs.append(i)\n",
    "        inst = instr[i%len(instr)]\n",
    "        if inst =='L':\n",
    "            currnode = graph[currnode][0]\n",
    "        else:\n",
    "            currnode = graph[currnode][1]\n",
    "        i+=1\n",
    "    start = poss.index([currnode,i%len(instr)])\n",
    "    length = i - poss.index([currnode,i%len(instr)])\n",
    "    return start, length, Zs\n",
    "\n",
    "for node in startnodes:\n",
    "    print(findPeriod(node,instr,graph))"
   ]
  },
  {
   "cell_type": "code",
   "execution_count": 12,
   "metadata": {},
   "outputs": [],
   "source": [
    "def decomp(n):\n",
    "    L = dict()\n",
    "    k = 2\n",
    "    while n != 1:\n",
    "        exp = 0\n",
    "        while n % k == 0:\n",
    "            n = n // k\n",
    "            exp += 1\n",
    "        if exp != 0:\n",
    "            L[k] = exp\n",
    "        k = k + 1\n",
    "        \n",
    "    return L\n",
    "def _ppcm(a,b):\n",
    "    Da = decomp(a)\n",
    "    Db = decomp(b)\n",
    "    p = 1\n",
    "    for facteur , exposant in Da.items():\n",
    "        if facteur in Db:\n",
    "            exp = max(exposant , Db[facteur])\n",
    "        else:\n",
    "            exp = exposant\n",
    "        \n",
    "        p *= facteur**exp\n",
    "        \n",
    "    for facteur , exposant in Db.items():\n",
    "        if facteur not in Da:\n",
    "            p *= facteur**exposant\n",
    "            \n",
    "    return p\n",
    "\n",
    "\n",
    "def ppcm(*args):\n",
    "    L = list( args )\n",
    "    while len( L ) > 1:\n",
    "        a = L[-1]\n",
    "        L.pop()\n",
    "        b = L[-1]\n",
    "        L.pop()\n",
    "        L.append( _ppcm(a,b) )\n",
    "        \n",
    "    return L[0]"
   ]
  },
  {
   "cell_type": "code",
   "execution_count": 14,
   "metadata": {},
   "outputs": [
    {
     "data": {
      "text/plain": [
       "18625484023687"
      ]
     },
     "execution_count": 14,
     "metadata": {},
     "output_type": "execute_result"
    }
   ],
   "source": [
    "ppcm(13771,20803,23147,19631,17287,17873)\n"
   ]
  },
  {
   "cell_type": "code",
   "execution_count": null,
   "metadata": {},
   "outputs": [],
   "source": []
  }
 ],
 "metadata": {
  "kernelspec": {
   "display_name": "base",
   "language": "python",
   "name": "python3"
  },
  "language_info": {
   "codemirror_mode": {
    "name": "ipython",
    "version": 3
   },
   "file_extension": ".py",
   "mimetype": "text/x-python",
   "name": "python",
   "nbconvert_exporter": "python",
   "pygments_lexer": "ipython3",
   "version": "3.11.5"
  }
 },
 "nbformat": 4,
 "nbformat_minor": 2
}
