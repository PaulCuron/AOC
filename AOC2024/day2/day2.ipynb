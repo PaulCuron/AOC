{
 "cells": [
  {
   "cell_type": "code",
   "execution_count": 89,
   "metadata": {},
   "outputs": [],
   "source": [
    "with open(\"input.txt\") as f:\n",
    "    reports = []\n",
    "    for report in f.readlines():\n",
    "        reports.append(report.strip().split())"
   ]
  },
  {
   "cell_type": "code",
   "execution_count": 90,
   "metadata": {},
   "outputs": [],
   "source": [
    "def is_Safe(report):\n",
    "    var = (int(report[1]) > int(report[0]))\n",
    "    for i,level in enumerate(report[:-1]):\n",
    "        d_level = int(report[i+1])-int(level)\n",
    "        if (d_level>0 )!= var:\n",
    "            return False\n",
    "        if not 1<= abs(d_level) <= 3:\n",
    "            return False\n",
    "    return True"
   ]
  },
  {
   "cell_type": "code",
   "execution_count": 91,
   "metadata": {},
   "outputs": [
    {
     "name": "stdout",
     "output_type": "stream",
     "text": [
      "407\n"
     ]
    }
   ],
   "source": [
    "n_safe = 0\n",
    "for report in reports:\n",
    "    n_safe+=is_Safe(report)\n",
    "print(n_safe)"
   ]
  },
  {
   "cell_type": "code",
   "execution_count": 92,
   "metadata": {},
   "outputs": [],
   "source": [
    "def is_Safev2(report):\n",
    "    if is_Safe(report[1:]):\n",
    "        return True\n",
    "    var = (int(report[1]) > int(report[0]))\n",
    "    for i in range(len(report)-1):\n",
    "        d_level = int(report[i+1])-int(report[i])\n",
    "        if (d_level>0 ) != var:\n",
    "            if (is_Safe(report[:i+1]+report[i+2:])) or (is_Safe(report[:i]+report[i+1:])):\n",
    "                return True\n",
    "            return False\n",
    "        if not (1 <= abs(d_level) <= 3):\n",
    "            if (is_Safe(report[:i+1]+report[i+2:])) or (is_Safe(report[:i]+report[i+1:])):\n",
    "                return True\n",
    "            return False\n",
    "    \n",
    "    return True"
   ]
  },
  {
   "cell_type": "code",
   "execution_count": 93,
   "metadata": {},
   "outputs": [
    {
     "name": "stdout",
     "output_type": "stream",
     "text": [
      "459\n"
     ]
    }
   ],
   "source": [
    "n_safe2 = 0\n",
    "for report in reports:\n",
    "    n_safe2+=is_Safev2(report)\n",
    "print(n_safe2)"
   ]
  }
 ],
 "metadata": {
  "kernelspec": {
   "display_name": "Python 3",
   "language": "python",
   "name": "python3"
  },
  "language_info": {
   "codemirror_mode": {
    "name": "ipython",
    "version": 3
   },
   "file_extension": ".py",
   "mimetype": "text/x-python",
   "name": "python",
   "nbconvert_exporter": "python",
   "pygments_lexer": "ipython3",
   "version": "3.12.3"
  }
 },
 "nbformat": 4,
 "nbformat_minor": 2
}
