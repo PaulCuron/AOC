{
 "cells": [
  {
   "cell_type": "code",
   "execution_count": 23,
   "metadata": {},
   "outputs": [
    {
     "name": "stdout",
     "output_type": "stream",
     "text": [
      "170807108\n"
     ]
    }
   ],
   "source": [
    "import re\n",
    "S = 0\n",
    "with open(\"input.txt\") as f:\n",
    "    pattern = r\"mul\\(\\d{1,3},\\d{1,3}\\)\"\n",
    "    for line in f.readlines():\n",
    "        res = re.findall(pattern, line.strip())\n",
    "        for mul in res:\n",
    "            [x, y]  = mul[4:-1].split(',')\n",
    "            S += int(x)*int(y)\n",
    "print(S)"
   ]
  },
  {
   "cell_type": "code",
   "execution_count": 25,
   "metadata": {},
   "outputs": [
    {
     "name": "stdout",
     "output_type": "stream",
     "text": [
      "74838033\n"
     ]
    }
   ],
   "source": [
    "S = 0\n",
    "with open(\"input.txt\") as f:\n",
    "    pattern = r\"do\\(\\)|don't\\(\\)|mul\\(\\d{1,3},\\d{1,3}\\)\"\n",
    "    do = True\n",
    "    for line in f.readlines():\n",
    "        res = re.findall(pattern, line.strip())\n",
    "        for mul in res:\n",
    "            if mul==\"do()\":\n",
    "                do = True\n",
    "            elif mul==\"don't()\":\n",
    "                do = False\n",
    "            elif do:\n",
    "                [x, y]  = mul[4:-1].split(',')\n",
    "                S += int(x)*int(y)\n",
    "print(S)"
   ]
  }
 ],
 "metadata": {
  "kernelspec": {
   "display_name": "Python 3",
   "language": "python",
   "name": "python3"
  },
  "language_info": {
   "codemirror_mode": {
    "name": "ipython",
    "version": 3
   },
   "file_extension": ".py",
   "mimetype": "text/x-python",
   "name": "python",
   "nbconvert_exporter": "python",
   "pygments_lexer": "ipython3",
   "version": "3.12.3"
  }
 },
 "nbformat": 4,
 "nbformat_minor": 2
}
