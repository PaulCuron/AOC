{
 "cells": [
  {
   "cell_type": "code",
   "execution_count": 39,
   "metadata": {},
   "outputs": [],
   "source": [
    "with open('input.txt') as f:\n",
    "    grid = []\n",
    "    for line in f.readlines():\n",
    "        grid.append(line.strip())"
   ]
  },
  {
   "cell_type": "code",
   "execution_count": 41,
   "metadata": {},
   "outputs": [
    {
     "name": "stdout",
     "output_type": "stream",
     "text": [
      "0----4\n",
      "0----5\n",
      "1----4\n",
      "3----9\n",
      "3----9\n",
      "4----0\n",
      "4----6\n",
      "4----6\n",
      "5----0\n",
      "5----6\n",
      "9----1\n",
      "9----3\n",
      "9----3\n",
      "9----5\n",
      "9----5\n",
      "9----5\n",
      "9----9\n",
      "9----9\n",
      "18\n"
     ]
    }
   ],
   "source": [
    "def neigh(grid, i, j):\n",
    "    N = []\n",
    "    if i>0:\n",
    "        N.append([i-1,j])\n",
    "        if j>0:\n",
    "            N.append([i-1,j-1])\n",
    "        if j<len(grid[0])-1:\n",
    "            N.append([i-1,j+1])\n",
    "    if j>0:\n",
    "        N.append([i,j-1])\n",
    "        if i<len(grid)-1:\n",
    "            N.append([i+1,j-1])\n",
    "    if i < len(grid)-1:\n",
    "        N.append([i+1,j])\n",
    "        if j<len(grid[0])-1:\n",
    "            N.append([i+1,j+1])\n",
    "    if j < len(grid)-1:\n",
    "        N.append([i,j+1])\n",
    "    return N\n",
    "\n",
    "C = 0\n",
    "for i,line in enumerate(grid):\n",
    "    for j,c in enumerate(line):\n",
    "        if c == \"X\":\n",
    "            for n in neigh(grid,i,j):\n",
    "                k,l = n[0], n[1]\n",
    "                if grid[k][l] == \"M\":\n",
    "                    di, dj = k-i, l-j \n",
    "                    if (0<=i+3*di < len(grid)) and  (0<= j+3*dj< len(grid[0])) :\n",
    "                        C+= (grid[i+2*di][j+2*dj]==\"A\")and(grid[i+3*di][j+3*dj]==\"S\")\n",
    "                        if ((grid[i+2*di][j+2*dj]==\"A\")and(grid[i+3*di][j+3*dj]==\"S\")):\n",
    "                            print(f'{i}----{j}')\n",
    "print(C)"
   ]
  },
  {
   "cell_type": "code",
   "execution_count": null,
   "metadata": {},
   "outputs": [
    {
     "name": "stdout",
     "output_type": "stream",
     "text": [
      "[[0, 1], [0, 3], [2, 1], [2, 3]]\n",
      "[[1, 5], [1, 7], [3, 5], [3, 7]]\n",
      "[[1, 6], [1, 8], [3, 6], [3, 8]]\n",
      "[[2, 1], [2, 3], [4, 1], [4, 3]]\n",
      "[[2, 3], [2, 5], [4, 3], [4, 5]]\n",
      "[[3, 1], [3, 3], [5, 1], [5, 3]]\n",
      "[[3, 3], [3, 5], [5, 3], [5, 5]]\n",
      "[[3, 6], [3, 8], [5, 6], [5, 8]]\n",
      "[[4, 1], [4, 3], [6, 1], [6, 3]]\n",
      "[[4, 6], [4, 8], [6, 6], [6, 8]]\n",
      "[[5, 4], [5, 6], [7, 4], [7, 6]]\n",
      "[[6, 0], [6, 2], [8, 0], [8, 2]]\n",
      "[[6, 2], [6, 4], [8, 2], [8, 4]]\n",
      "[[6, 4], [6, 6], [8, 4], [8, 6]]\n",
      "[[6, 6], [6, 8], [8, 6], [8, 8]]\n",
      "[[6, 7], [6, 9], [8, 7], [8, 9]]\n",
      "[[7, 0], [7, 2], [9, 0], [9, 2]]\n",
      "9\n"
     ]
    }
   ],
   "source": [
    "def neigh(grid, i, j):\n",
    "    N = []\n",
    "    if i>0:\n",
    "        if j>0:\n",
    "            N.append([i-1,j-1])\n",
    "        if j<len(grid[0])-1:\n",
    "            N.append([i-1,j+1])\n",
    "    if j>0:\n",
    "        if i<len(grid)-1:\n",
    "            N.append([i+1,j-1])\n",
    "    if i < len(grid)-1:\n",
    "        if j<len(grid[0])-1:\n",
    "            N.append([i+1,j+1])\n",
    "    return N\n",
    "\n",
    "C = 0\n",
    "for i,line in enumerate(grid):\n",
    "    for j,c in enumerate(line):\n",
    "        if c == \"A\":\n",
    "            n = neigh(grid,i,j)\n",
    "            if len(n)==4:\n",
    "                if (grid[n[0][0]][n[0][1]]==\"M\" and grid[n[3][0]][n[3][1]]==\"S\") or (grid[n[3][0]][n[3][1]]==\"M\" and grid[n[0][0]][n[0][1]]==\"S\"):\n",
    "                    if (grid[n[1][0]][n[1][1]]==\"M\" and grid[n[2][0]][n[2][1]]==\"S\") or (grid[n[2][0]][n[2][1]]==\"M\" and grid[n[1][0]][n[1][1]]==\"S\"):\n",
    "                        C+=1\n",
    "\n",
    "                \n",
    "print(C)"
   ]
  },
  {
   "cell_type": "code",
   "execution_count": null,
   "metadata": {},
   "outputs": [
    {
     "data": {
      "text/plain": [
       "['MMMSXXMASM',\n",
       " 'MSAMXMSMSA',\n",
       " 'AMXSXMAAMM',\n",
       " 'MSAMASMSMX',\n",
       " 'XMASAMXAMM',\n",
       " 'XXAMMXXAMA',\n",
       " 'SMSMSASXSS',\n",
       " 'SAXAMASAAA',\n",
       " 'MAMMMXMMMM',\n",
       " 'MXMXAXMASX']"
      ]
     },
     "execution_count": 45,
     "metadata": {},
     "output_type": "execute_result"
    }
   ],
   "source": []
  },
  {
   "cell_type": "code",
   "execution_count": null,
   "metadata": {},
   "outputs": [],
   "source": []
  }
 ],
 "metadata": {
  "kernelspec": {
   "display_name": "Python 3",
   "language": "python",
   "name": "python3"
  },
  "language_info": {
   "codemirror_mode": {
    "name": "ipython",
    "version": 3
   },
   "file_extension": ".py",
   "mimetype": "text/x-python",
   "name": "python",
   "nbconvert_exporter": "python",
   "pygments_lexer": "ipython3",
   "version": "3.12.3"
  }
 },
 "nbformat": 4,
 "nbformat_minor": 2
}
