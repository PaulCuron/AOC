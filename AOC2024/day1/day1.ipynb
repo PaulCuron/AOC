{
 "cells": [
  {
   "cell_type": "code",
   "execution_count": 3,
   "metadata": {},
   "outputs": [
    {
     "name": "stdout",
     "output_type": "stream",
     "text": [
      "1151792\n"
     ]
    }
   ],
   "source": [
    "import numpy as np\n",
    "\n",
    "fname = \"input.txt\"\n",
    "\n",
    "with open(fname) as f:\n",
    "    L = f.readlines()\n",
    "    l1, l2 = [], []\n",
    "    for l in L:\n",
    "        l1.append(int(l.strip().split()[0]))\n",
    "        l2.append(int(l.strip().split()[1]))\n",
    "\n",
    "print(np.sum(np.abs(np.sort(l1)-np.sort(l2))))"
   ]
  },
  {
   "cell_type": "code",
   "execution_count": 4,
   "metadata": {},
   "outputs": [
    {
     "name": "stdout",
     "output_type": "stream",
     "text": [
      "21790168\n"
     ]
    }
   ],
   "source": [
    "dict = {}\n",
    "for a in l2:\n",
    "    if a in dict.keys():\n",
    "        dict[a]+=1\n",
    "    else:\n",
    "        dict[a]=1\n",
    "S = 0\n",
    "for b in l1:\n",
    "    if b in dict.keys():\n",
    "        S+=b*dict[b]\n",
    "print(S)"
   ]
  },
  {
   "cell_type": "code",
   "execution_count": null,
   "metadata": {},
   "outputs": [],
   "source": []
  }
 ],
 "metadata": {
  "kernelspec": {
   "display_name": "Python 3",
   "language": "python",
   "name": "python3"
  },
  "language_info": {
   "codemirror_mode": {
    "name": "ipython",
    "version": 3
   },
   "file_extension": ".py",
   "mimetype": "text/x-python",
   "name": "python",
   "nbconvert_exporter": "python",
   "pygments_lexer": "ipython3",
   "version": "3.12.3"
  }
 },
 "nbformat": 4,
 "nbformat_minor": 2
}
